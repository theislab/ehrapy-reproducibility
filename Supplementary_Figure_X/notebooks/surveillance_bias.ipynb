{
 "cells": [
  {
   "cell_type": "markdown",
   "metadata": {},
   "source": [
    "Surveillance"
   ]
  },
  {
   "cell_type": "code",
   "execution_count": 2,
   "metadata": {},
   "outputs": [],
   "source": [
    "import ehrapy as ep\n",
    "import seaborn as sns\n",
    "import matplotlib.pyplot as plt\n",
    "\n",
    "from scipy.stats import chi2_contingency\n",
    "\n",
    "import warnings\n",
    "\n",
    "warnings.filterwarnings(\"ignore\")"
   ]
  },
  {
   "cell_type": "code",
   "execution_count": 3,
   "metadata": {},
   "outputs": [
    {
     "data": {
      "text/plain": [
       "AnnData object with n_obs × n_vars = 101766 × 24\n",
       "    obs: 'race', 'gender', 'age'\n",
       "    var: 'ehrapy_column_type'\n",
       "    layers: 'original'"
      ]
     },
     "execution_count": 3,
     "metadata": {},
     "output_type": "execute_result"
    }
   ],
   "source": [
    "adata = ep.dt.diabetes_130_fairlearn()\n",
    "ep.ad.move_to_obs(adata, [\"race\", \"gender\", \"age\"], copy_obs=True)"
   ]
  },
  {
   "cell_type": "code",
   "execution_count": 4,
   "metadata": {},
   "outputs": [],
   "source": [
    "ep.ad.move_to_obs(adata, [\"A1Cresult\", \"admission_source_id\"], copy_obs=True)\n",
    "adata.obs[\"A1Cresult_measured\"] = ~adata.obs[\"A1Cresult\"].isna()"
   ]
  },
  {
   "cell_type": "code",
   "execution_count": 5,
   "metadata": {},
   "outputs": [
    {
     "name": "stdout",
     "output_type": "stream",
     "text": [
      "Comparison between Group referral and Group emergency:\n",
      "Chi-squared statistic: 596.215773821687\n",
      "p-value: 1.1140447707715962e-131\n",
      "Degrees of freedom: 1\n",
      "Expected frequencies:\n",
      "[[ 5390.28301075 25465.71698925]\n",
      " [10043.71698925 47450.28301075]]\n",
      "\n",
      "Comparison between Group referral and Group other:\n",
      "Chi-squared statistic: 16.380265752052786\n",
      "p-value: 5.182197620427166e-05\n",
      "Degrees of freedom: 1\n",
      "Expected frequencies:\n",
      "[[ 3944.81749187 26911.18250813]\n",
      " [ 1715.18250813 11700.81749187]]\n",
      "\n",
      "Comparison between Group emergency and Group other:\n",
      "Chi-squared statistic: 460.0554308187645\n",
      "p-value: 4.6755054166738994e-102\n",
      "Degrees of freedom: 1\n",
      "Expected frequencies:\n",
      "[[10493.40499224 47000.59500776]\n",
      " [ 2448.59500776 10967.40499224]]\n",
      "\n"
     ]
    }
   ],
   "source": [
    "referral = adata.obs[\"A1Cresult_measured\"][adata.obs[\"admission_source_id\"]==\"Referral\"]\n",
    "emergency = adata.obs[\"A1Cresult_measured\"][adata.obs[\"admission_source_id\"]==\"Emergency\"]\n",
    "other = adata.obs[\"A1Cresult_measured\"][adata.obs[\"admission_source_id\"]==\"Other\"]\n",
    "\n",
    "groups = [referral, emergency, other]\n",
    "group_names = ['referral', 'emergency', 'other']\n",
    "\n",
    "# Perform pairwise comparisons\n",
    "for i in range(len(groups)):\n",
    "    for j in range(i+1, len(groups)):\n",
    "        # Create contingency table\n",
    "        observed = [[sum(groups[i]), len(groups[i]) - sum(groups[i])],\n",
    "                    [sum(groups[j]), len(groups[j]) - sum(groups[j])]]\n",
    "        \n",
    "        # Perform chi-squared test\n",
    "        chi2, p, dof, expected = chi2_contingency(observed)\n",
    "        \n",
    "        # Print results\n",
    "        print(f\"Comparison between Group {group_names[i]} and Group {group_names[j]}:\")\n",
    "        print(\"Chi-squared statistic:\", chi2)\n",
    "        print(\"p-value:\", p)\n",
    "        print(\"Degrees of freedom:\", dof)\n",
    "        print(\"Expected frequencies:\")\n",
    "        print(expected)\n",
    "        print()\n"
   ]
  },
  {
   "cell_type": "markdown",
   "metadata": {},
   "source": [
    "All groupwise comparisons are significant at the 0.001% level (Bonferroni Correction threshold considered for three tests: 0.001/3=0.00033)"
   ]
  },
  {
   "cell_type": "code",
   "execution_count": 6,
   "metadata": {},
   "outputs": [
    {
     "data": {
      "image/png": "[encoded data removed]",
      "text/plain": [
       "<Figure size 500x500 with 1 Axes>"
      ]
     },
     "metadata": {},
     "output_type": "display_data"
    }
   ],
   "source": [
    "sns.catplot(\n",
    "    y=\"A1Cresult_measured\",\n",
    "    x=\"admission_source_id\",\n",
    "    data=adata.obs,\n",
    "    kind=\"point\",\n",
    "    ci=95,\n",
    "    dodge=True,\n",
    "    join=False,\n",
    "    palette=[\"#3399CC\"] # ehrapy palette\n",
    ")\n",
    "plt.xlabel(\"Admission Type\")\n",
    "plt.ylabel(\"HbA1c Measured (%)\")\n",
    "# plt.title(\"Percentage of HbA1c measured by Admission Type\")\n",
    "plt.text(1.45, 0.2, \"***\")\n",
    "plt.text(0.45, 0.205, \"***\")\n",
    "plt.text(0.95, 0.21, \"***\")\n",
    "plt.hlines(0.2, 1, 2, colors=\"black\", linewidth=0.8)\n",
    "plt.hlines(0.205, 0, 1, colors=\"black\", linewidth=0.8)\n",
    "plt.hlines(0.21, 0, 2, colors=\"black\", linewidth=0.8)\n",
    "\n",
    "plt.savefig(\"surveillance_bias.png\", dpi=300, bbox_inches=\"tight\")\n",
    "plt.show()\n"
   ]
  }
 ],
 "metadata": {
  "kernelspec": {
   "display_name": "ehrapy",
   "language": "python",
   "name": "python3"
  },
  "language_info": {
   "codemirror_mode": {
    "name": "ipython",
    "version": 3
   },
   "file_extension": ".py",
   "mimetype": "text/x-python",
   "name": "python",
   "nbconvert_exporter": "python",
   "pygments_lexer": "ipython3",
   "version": "3.11.8"
  }
 },
 "nbformat": 4,
 "nbformat_minor": 2
}
