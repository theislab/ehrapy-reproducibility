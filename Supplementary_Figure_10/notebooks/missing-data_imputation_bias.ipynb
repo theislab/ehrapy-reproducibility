{
 "cells": [
  {
   "cell_type": "code",
   "execution_count": 1,
   "metadata": {},
   "outputs": [],
   "source": [
    "import ehrapy as ep\n",
    "import seaborn as sns\n",
    "import pandas as pd\n",
    "import numpy as np\n",
    "import matplotlib.pyplot as plt\n",
    "\n",
    "import warnings\n",
    "\n",
    "warnings.filterwarnings(\"ignore\")"
   ]
  },
  {
   "cell_type": "code",
   "execution_count": 2,
   "metadata": {},
   "outputs": [],
   "source": [
    "VAR_OF_INTEREST = \"num_medications\""
   ]
  },
  {
   "cell_type": "code",
   "execution_count": 3,
   "metadata": {},
   "outputs": [],
   "source": [
    "adata = ep.dt.diabetes_130_fairlearn()"
   ]
  },
  {
   "cell_type": "code",
   "execution_count": 4,
   "metadata": {},
   "outputs": [],
   "source": [
    "# create reproducible MCAR missing values\n",
    "rng = np.random.default_rng(2)\n",
    "mcar_mask = rng.choice([True, False], size=len(adata), p=[0.3, 0.7])\n",
    "# create a new AnnData with these missing values\n",
    "adata_mcar = adata.copy()\n",
    "adata_mcar.X[mcar_mask, adata_mcar.var_names == VAR_OF_INTEREST] = np.nan"
   ]
  },
  {
   "cell_type": "code",
   "execution_count": 5,
   "metadata": {},
   "outputs": [
    {
     "data": {
      "application/vnd.jupyter.widget-view+json": {
       "model_id": "a19203d34e504a38af3792e5d0100999",
       "version_major": 2,
       "version_minor": 0
      },
      "text/plain": [
       "Output()"
      ]
     },
     "metadata": {},
     "output_type": "display_data"
    },
    {
     "data": {
      "text/html": [
       "<pre style=\"white-space:pre;overflow-x:auto;line-height:normal;font-family:Menlo,'DejaVu Sans Mono',consolas,'Courier New',monospace\"></pre>\n"
      ],
      "text/plain": []
     },
     "metadata": {},
     "output_type": "display_data"
    },
    {
     "data": {
      "text/html": [
       "<pre style=\"white-space:pre;overflow-x:auto;line-height:normal;font-family:Menlo,'DejaVu Sans Mono',consolas,'Courier New',monospace\">\n",
       "</pre>\n"
      ],
      "text/plain": [
       "\n"
      ]
     },
     "metadata": {},
     "output_type": "display_data"
    }
   ],
   "source": [
    "adata_mcar_mean_imputed = ep.pp.simple_impute(\n",
    "    adata_mcar, var_names=[VAR_OF_INTEREST], strategy=\"mean\", copy=True\n",
    ")"
   ]
  },
  {
   "cell_type": "code",
   "execution_count": 6,
   "metadata": {},
   "outputs": [],
   "source": [
    "adata_mcar_limited = adata_mcar[\n",
    "    :, adata_mcar.var_names.isin([VAR_OF_INTEREST, \"time_in_hospital\"])\n",
    "].copy()"
   ]
  },
  {
   "cell_type": "code",
   "execution_count": 7,
   "metadata": {},
   "outputs": [
    {
     "name": "stdout",
     "output_type": "stream",
     "text": [
      "❗ Feature 'time_in_hospital' was detected as categorical features stored numerically.Please verify and correct using `ep.ad.replace_feature_types` if necessary.\n"
     ]
    },
    {
     "data": {
      "text/html": [
       "<pre style=\"white-space:pre;overflow-x:auto;line-height:normal;font-family:Menlo,'DejaVu Sans Mono',consolas,'Courier New',monospace\"><span style=\"font-weight: bold\"> Detected feature types for AnnData object with 101766 obs and 2 vars</span>\n",
       "╠══ 📅<span style=\"font-weight: bold\"> Date features</span>\n",
       "╠══ 📐<span style=\"font-weight: bold\"> Numerical features</span>\n",
       "║   ╚══ num_medications\n",
       "╚══ 🗂️<span style=\"font-weight: bold\"> Categorical features</span>\n",
       "    ╚══ time_in_hospital (14 categories)\n",
       "</pre>\n"
      ],
      "text/plain": [
       "\u001b[1m Detected feature types for AnnData object with 101766 obs and 2 vars\u001b[0m\n",
       "╠══ 📅\u001b[1m Date features\u001b[0m\n",
       "╠══ 📐\u001b[1m Numerical features\u001b[0m\n",
       "║   ╚══ num_medications\n",
       "╚══ 🗂️\u001b[1m Categorical features\u001b[0m\n",
       "    ╚══ time_in_hospital (14 categories)\n"
      ]
     },
     "metadata": {},
     "output_type": "display_data"
    }
   ],
   "source": [
    "ep.ad.infer_feature_types(adata_mcar_limited)"
   ]
  },
  {
   "cell_type": "code",
   "execution_count": 8,
   "metadata": {},
   "outputs": [],
   "source": [
    "adata_group = adata[:, adata.var_names.isin([VAR_OF_INTEREST, \"time_in_hospital\"])]\n",
    "\n",
    "# admission_source_encoded = adata_group_encoded[:, adata_group_encoded.var_names == f\"ehrapycat_{GROUP_VAR}\"].X\n",
    "value_vector = adata[:, adata.var_names == \"time_in_hospital\"].X.astype(np.float64)\n",
    "\n",
    "continuous_values = np.array(value_vector - np.mean(value_vector)) / np.std(\n",
    "    value_vector\n",
    ")\n",
    "# small offset to steer the degree of missingness\n",
    "continuous_values *= 1.2\n",
    "continuous_values -= 0.6\n",
    "\n",
    "# Convert continuous values to probabilities using the logistic function\n",
    "probabilities = 1 / (1 + np.exp(-continuous_values))\n",
    "probabilities\n",
    "\n",
    "# Generate MAR mask based on probabilities\n",
    "rng = np.random.default_rng(2)\n",
    "mar_mask = rng.binomial(1, probabilities).astype(bool)\n",
    "\n",
    "adata_group_encoded_mar = adata_group.copy()\n",
    "adata_group_encoded_mar.X[\n",
    "    mar_mask.flatten(), adata_group_encoded_mar.var_names == VAR_OF_INTEREST\n",
    "] = np.nan"
   ]
  },
  {
   "cell_type": "code",
   "execution_count": 9,
   "metadata": {},
   "outputs": [
    {
     "name": "stdout",
     "output_type": "stream",
     "text": [
      "36.86% missing data introduced in MAR scenario\n"
     ]
    }
   ],
   "source": [
    "# missingness percentage\n",
    "print(\n",
    "    f\"{mar_mask.flatten().sum()/len(mar_mask):.2%} missing data introduced in MAR scenario\"\n",
    ")"
   ]
  },
  {
   "cell_type": "code",
   "execution_count": 10,
   "metadata": {},
   "outputs": [
    {
     "data": {
      "application/vnd.jupyter.widget-view+json": {
       "model_id": "140f0d423a074744b32cc0d03770dc18",
       "version_major": 2,
       "version_minor": 0
      },
      "text/plain": [
       "Output()"
      ]
     },
     "metadata": {},
     "output_type": "display_data"
    },
    {
     "data": {
      "text/html": [
       "<pre style=\"white-space:pre;overflow-x:auto;line-height:normal;font-family:Menlo,'DejaVu Sans Mono',consolas,'Courier New',monospace\"></pre>\n"
      ],
      "text/plain": []
     },
     "metadata": {},
     "output_type": "display_data"
    },
    {
     "data": {
      "text/html": [
       "<pre style=\"white-space:pre;overflow-x:auto;line-height:normal;font-family:Menlo,'DejaVu Sans Mono',consolas,'Courier New',monospace\">\n",
       "</pre>\n"
      ],
      "text/plain": [
       "\n"
      ]
     },
     "metadata": {},
     "output_type": "display_data"
    }
   ],
   "source": [
    "adata_mar_mean_imputed = ep.pp.simple_impute(\n",
    "    adata_group_encoded_mar, var_names=[VAR_OF_INTEREST], strategy=\"mean\", copy=True\n",
    ")"
   ]
  },
  {
   "cell_type": "code",
   "execution_count": 11,
   "metadata": {},
   "outputs": [
    {
     "data": {
      "application/vnd.jupyter.widget-view+json": {
       "model_id": "04fe83f7cac94ea7b848c25b41ca5722",
       "version_major": 2,
       "version_minor": 0
      },
      "text/plain": [
       "Output()"
      ]
     },
     "metadata": {},
     "output_type": "display_data"
    },
    {
     "name": "stdout",
     "output_type": "stream",
     "text": [
      "❗ The number of jobs is only 1. To decrease the runtime set ep.settings.n_jobs=-1.\n"
     ]
    },
    {
     "data": {
      "text/html": [
       "<pre style=\"white-space:pre;overflow-x:auto;line-height:normal;font-family:Menlo,'DejaVu Sans Mono',consolas,'Courier New',monospace\"></pre>\n"
      ],
      "text/plain": []
     },
     "metadata": {},
     "output_type": "display_data"
    },
    {
     "data": {
      "text/html": [
       "<pre style=\"white-space:pre;overflow-x:auto;line-height:normal;font-family:Menlo,'DejaVu Sans Mono',consolas,'Courier New',monospace\">\n",
       "</pre>\n"
      ],
      "text/plain": [
       "\n"
      ]
     },
     "metadata": {},
     "output_type": "display_data"
    }
   ],
   "source": [
    "adata_mar_mi_imputed = ep.pp.miss_forest_impute(adata_group_encoded_mar, copy=True)"
   ]
  },
  {
   "cell_type": "code",
   "execution_count": 12,
   "metadata": {},
   "outputs": [
    {
     "data": {
      "text/html": [
       "<style type=\"text/css\">\n",
       "</style>\n",
       "<table id=\"T_a2ed1\">\n",
       "  <thead>\n",
       "    <tr>\n",
       "      <th class=\"blank level0\" >&nbsp;</th>\n",
       "      <th id=\"T_a2ed1_level0_col0\" class=\"col_heading level0 col0\" >Complete</th>\n",
       "      <th id=\"T_a2ed1_level0_col1\" class=\"col_heading level0 col1\" >MCAR</th>\n",
       "      <th id=\"T_a2ed1_level0_col2\" class=\"col_heading level0 col2\" >MCAR Mean Imputed</th>\n",
       "    </tr>\n",
       "  </thead>\n",
       "  <tbody>\n",
       "    <tr>\n",
       "      <th id=\"T_a2ed1_level0_row0\" class=\"row_heading level0 row0\" >Mean</th>\n",
       "      <td id=\"T_a2ed1_row0_col0\" class=\"data row0 col0\" >16.02</td>\n",
       "      <td id=\"T_a2ed1_row0_col1\" class=\"data row0 col1\" >16.02</td>\n",
       "      <td id=\"T_a2ed1_row0_col2\" class=\"data row0 col2\" >16.02</td>\n",
       "    </tr>\n",
       "    <tr>\n",
       "      <th id=\"T_a2ed1_level0_row1\" class=\"row_heading level0 row1\" >Stdev</th>\n",
       "      <td id=\"T_a2ed1_row1_col0\" class=\"data row1 col0\" >8.13</td>\n",
       "      <td id=\"T_a2ed1_row1_col1\" class=\"data row1 col1\" >8.14</td>\n",
       "      <td id=\"T_a2ed1_row1_col2\" class=\"data row1 col2\" >6.81</td>\n",
       "    </tr>\n",
       "  </tbody>\n",
       "</table>\n"
      ],
      "text/plain": [
       "<pandas.io.formats.style.Styler at 0x7f2e898e98d0>"
      ]
     },
     "execution_count": 12,
     "metadata": {},
     "output_type": "execute_result"
    }
   ],
   "source": [
    "mean_complete = np.nanmean(\n",
    "    adata[:, adata.var_names == VAR_OF_INTEREST].X.astype(np.float64)\n",
    ")\n",
    "mean_mcar = np.nanmean(\n",
    "    adata_mcar[:, adata_mcar.var_names == VAR_OF_INTEREST].X.astype(np.float64)\n",
    ")\n",
    "mean_mcar_mean_imputed = np.nanmean(\n",
    "    adata_mcar_mean_imputed[\n",
    "        :, adata_mcar_mean_imputed.var_names == VAR_OF_INTEREST\n",
    "    ].X.astype(np.float64)\n",
    ")\n",
    "mean_mar = np.nanmean(\n",
    "    adata_group_encoded_mar[\n",
    "        :, adata_group_encoded_mar.var_names == VAR_OF_INTEREST\n",
    "    ].X.astype(np.float64)\n",
    ")\n",
    "mean_mar_mean_imputed = np.nanmean(\n",
    "    adata_mar_mean_imputed[\n",
    "        :, adata_mar_mean_imputed.var_names == VAR_OF_INTEREST\n",
    "    ].X.astype(np.float64)\n",
    ")\n",
    "mean_mar_mi_imputed = np.nanmean(\n",
    "    adata_mar_mi_imputed[:, adata_mar_mi_imputed.var_names == VAR_OF_INTEREST].X.astype(\n",
    "        np.float64\n",
    "    )\n",
    ")\n",
    "\n",
    "std_complete = np.nanstd(\n",
    "    adata[:, adata.var_names == VAR_OF_INTEREST].X.astype(np.float64)\n",
    ")\n",
    "std_mcar = np.nanstd(\n",
    "    adata_mcar[:, adata_mcar.var_names == VAR_OF_INTEREST].X.astype(np.float64)\n",
    ")\n",
    "std_mcar_mean_imputed = np.nanstd(\n",
    "    adata_mcar_mean_imputed[\n",
    "        :, adata_mcar_mean_imputed.var_names == VAR_OF_INTEREST\n",
    "    ].X.astype(np.float64)\n",
    ")\n",
    "std_mar = np.nanstd(\n",
    "    adata_group_encoded_mar[\n",
    "        :, adata_group_encoded_mar.var_names == VAR_OF_INTEREST\n",
    "    ].X.astype(np.float64)\n",
    ")\n",
    "std_mar_mean_imputed = np.nanstd(\n",
    "    adata_mar_mean_imputed[\n",
    "        :, adata_mar_mean_imputed.var_names == VAR_OF_INTEREST\n",
    "    ].X.astype(np.float64)\n",
    ")\n",
    "std_mar_mi_imputed = np.nanstd(\n",
    "    adata_mar_mi_imputed[:, adata_mar_mi_imputed.var_names == VAR_OF_INTEREST].X.astype(\n",
    "        np.float64\n",
    "    )\n",
    ")\n",
    "\n",
    "df_mcar = pd.DataFrame(\n",
    "    {\n",
    "        \"Complete\": [mean_complete, std_complete],\n",
    "        \"MCAR\": [mean_mcar, std_mcar],\n",
    "        \"MCAR Mean Imputed\": [mean_mcar_mean_imputed, std_mcar_mean_imputed],\n",
    "    },\n",
    "    index=[\"Mean\", \"Stdev\"],\n",
    ")\n",
    "df_mcar.style.format(\"{:.2f}\")"
   ]
  },
  {
   "cell_type": "code",
   "execution_count": 13,
   "metadata": {},
   "outputs": [
    {
     "data": {
      "text/html": [
       "<style type=\"text/css\">\n",
       "</style>\n",
       "<table id=\"T_2c0f5\">\n",
       "  <thead>\n",
       "    <tr>\n",
       "      <th class=\"blank level0\" >&nbsp;</th>\n",
       "      <th id=\"T_2c0f5_level0_col0\" class=\"col_heading level0 col0\" >Complete</th>\n",
       "      <th id=\"T_2c0f5_level0_col1\" class=\"col_heading level0 col1\" >MAR</th>\n",
       "      <th id=\"T_2c0f5_level0_col2\" class=\"col_heading level0 col2\" >MAR Mean Imputed</th>\n",
       "      <th id=\"T_2c0f5_level0_col3\" class=\"col_heading level0 col3\" >MAR MI Imputed</th>\n",
       "    </tr>\n",
       "  </thead>\n",
       "  <tbody>\n",
       "    <tr>\n",
       "      <th id=\"T_2c0f5_level0_row0\" class=\"row_heading level0 row0\" >Mean</th>\n",
       "      <td id=\"T_2c0f5_row0_col0\" class=\"data row0 col0\" >16.02</td>\n",
       "      <td id=\"T_2c0f5_row0_col1\" class=\"data row0 col1\" >14.66</td>\n",
       "      <td id=\"T_2c0f5_row0_col2\" class=\"data row0 col2\" >14.66</td>\n",
       "      <td id=\"T_2c0f5_row0_col3\" class=\"data row0 col3\" >16.04</td>\n",
       "    </tr>\n",
       "    <tr>\n",
       "      <th id=\"T_2c0f5_level0_row1\" class=\"row_heading level0 row1\" >Stdev</th>\n",
       "      <td id=\"T_2c0f5_row1_col0\" class=\"data row1 col0\" >8.13</td>\n",
       "      <td id=\"T_2c0f5_row1_col1\" class=\"data row1 col1\" >7.20</td>\n",
       "      <td id=\"T_2c0f5_row1_col2\" class=\"data row1 col2\" >5.72</td>\n",
       "      <td id=\"T_2c0f5_row1_col3\" class=\"data row1 col3\" >6.45</td>\n",
       "    </tr>\n",
       "  </tbody>\n",
       "</table>\n"
      ],
      "text/plain": [
       "<pandas.io.formats.style.Styler at 0x7f2e8744d690>"
      ]
     },
     "execution_count": 13,
     "metadata": {},
     "output_type": "execute_result"
    }
   ],
   "source": [
    "df_mar = pd.DataFrame(\n",
    "    {\n",
    "        \"Complete\": [mean_complete, std_complete],\n",
    "        \"MAR\": [mean_mar, std_mar],\n",
    "        \"MAR Mean Imputed\": [mean_mar_mean_imputed, std_mar_mean_imputed],\n",
    "        \"MAR MI Imputed\": [mean_mar_mi_imputed, std_mar_mi_imputed],\n",
    "    },\n",
    "    index=[\"Mean\", \"Stdev\"],\n",
    ")\n",
    "df_mar.style.format(\"{:.2f}\")"
   ]
  },
  {
   "cell_type": "code",
   "execution_count": 14,
   "metadata": {
    "scrolled": false
   },
   "outputs": [
    {
     "data": {
      "image/png": "[encoded data removed]",
      "text/plain": [
       "<Figure size 600x450 with 4 Axes>"
      ]
     },
     "metadata": {},
     "output_type": "display_data"
    }
   ],
   "source": [
    "labels = (\"Complete\", \"MCAR\", \"MCAR Mean Imputed\")\n",
    "adatas = (adata, adata_mcar, adata_mcar_mean_imputed)\n",
    "colors = sns.color_palette(\"tab10\")[: len(adatas)]\n",
    "\n",
    "height_ratios = [10] + [1] * len(adatas)\n",
    "\n",
    "# Create the subplots with specified height ratios\n",
    "fig, axes = plt.subplots(\n",
    "    nrows=1 + len(adatas),\n",
    "    figsize=(6, 1.5 * len(adatas)),\n",
    "    gridspec_kw={\"height_ratios\": height_ratios},\n",
    "    sharex=True,\n",
    ")\n",
    "fig.subplots_adjust(hspace=0)\n",
    "\n",
    "for i, (color, label, data) in enumerate(zip(colors, labels, adatas)):\n",
    "    statistics = df_mcar.iloc[:, i]\n",
    "    stat_string = f\"${round(statistics['Mean'].item(), 2)} \\pm {round(statistics['Stdev'].item(), 2)}$\"\n",
    "\n",
    "    sns.kdeplot(\n",
    "        x=data[:, data.var_names == VAR_OF_INTEREST].X.flatten(),\n",
    "        color=color,\n",
    "        ax=axes[0],\n",
    "        label=f\"{label}: {stat_string}\",\n",
    "    )\n",
    "    sns.boxplot(\n",
    "        x=data[:, data.var_names == VAR_OF_INTEREST].X.flatten(),\n",
    "        orient=\"h\",\n",
    "        color=color,\n",
    "        ax=axes[i + 1],\n",
    "        width=0.25,\n",
    "        fliersize=0.3,\n",
    "    )\n",
    "    sns.rugplot(\n",
    "        x=data[:, data.var_names == VAR_OF_INTEREST].X.flatten(),\n",
    "        color=color,\n",
    "        alpha=0.1,\n",
    "        ax=axes[i + 1],\n",
    "        height=0.2,\n",
    "    )\n",
    "\n",
    "    axes[i + 1].spines[\"right\"].set_visible(False)\n",
    "    axes[i + 1].spines[\"left\"].set_visible(False)\n",
    "    axes[i + 1].spines[\"bottom\"].set_visible(False)\n",
    "    axes[i + 1].set_yticks([])\n",
    "\n",
    "    if i > 0:\n",
    "        axes[i + 1].spines[\"top\"].set_visible(False)\n",
    "\n",
    "fig.suptitle(\n",
    "    \"MCAR missing data and imputation\",\n",
    ")\n",
    "axes[0].legend()\n",
    "\n",
    "plt.savefig(\"missing-data_imputation_bias_mcar.png\", dpi=300, bbox_inches=\"tight\")"
   ]
  },
  {
   "cell_type": "code",
   "execution_count": null,
   "metadata": {},
   "outputs": [],
   "source": [
    "# Warning: the svg image generated is big, >60MB\n",
    "plt.savefig(\"missing-data_imputation_bias_mcar.svg\", dpi=300, bbox_inches=\"tight\")"
   ]
  },
  {
   "cell_type": "code",
   "execution_count": 15,
   "metadata": {},
   "outputs": [],
   "source": [
    "labels = (\"Complete\", \"MAR\", \"MAR Mean Imputed\", \"MAR MissForest Imputed\")\n",
    "adatas = (adata, adata_group_encoded_mar, adata_mar_mean_imputed, adata_mar_mi_imputed)\n",
    "colors = sns.color_palette(\"tab10\")[: len(adatas)]\n",
    "\n",
    "height_ratios = [10] + [1] * len(adatas)\n",
    "\n",
    "# Create the subplots with specified height ratios\n",
    "fig, axes = plt.subplots(\n",
    "    nrows=1 + len(adatas),\n",
    "    figsize=(6, 1.5 * len(adatas)),\n",
    "    gridspec_kw={\"height_ratios\": height_ratios},\n",
    "    sharex=True,\n",
    ")\n",
    "fig.subplots_adjust(hspace=0)\n",
    "\n",
    "for i, (color, label, data) in enumerate(zip(colors, labels, adatas)):\n",
    "    statistics = df_mar.iloc[:, i]\n",
    "    stat_string = f\"${round(statistics['Mean'].item(), 2)} \\pm {round(statistics['Stdev'].item(), 2)}$\"\n",
    "\n",
    "    sns.kdeplot(\n",
    "        x=data[:, data.var_names == VAR_OF_INTEREST].X.flatten(),\n",
    "        color=color,\n",
    "        ax=axes[0],\n",
    "        label=f\"{label}: {stat_string}\",\n",
    "    )\n",
    "    sns.boxplot(\n",
    "        x=data[:, data.var_names == VAR_OF_INTEREST].X.flatten(),\n",
    "        orient=\"h\",\n",
    "        color=color,\n",
    "        ax=axes[i + 1],\n",
    "        width=0.25,\n",
    "        fliersize=0.3,\n",
    "    )\n",
    "    sns.rugplot(\n",
    "        x=data[:, data.var_names == VAR_OF_INTEREST].X.flatten(),\n",
    "        color=color,\n",
    "        alpha=0.1,\n",
    "        ax=axes[i + 1],\n",
    "        height=0.2,\n",
    "    )\n",
    "\n",
    "    axes[i + 1].spines[\"right\"].set_visible(False)\n",
    "    axes[i + 1].spines[\"left\"].set_visible(False)\n",
    "    axes[i + 1].spines[\"bottom\"].set_visible(False)\n",
    "    axes[i + 1].set_yticks([])\n",
    "\n",
    "    if i > 0:\n",
    "        axes[i + 1].spines[\"top\"].set_visible(False)\n",
    "\n",
    "fig.suptitle(\n",
    "    \"MAR missing data and imputation\",\n",
    ")\n",
    "axes[0].legend()\n",
    "\n",
    "plt.savefig(\"missing-data_imputation_bias_mar.png\", dpi=300, bbox_inches=\"tight\")\n"
   ]
  },
  {
   "cell_type": "code",
   "execution_count": null,
   "metadata": {},
   "outputs": [],
   "source": [
    "# Warning: the svg image generated is big, >60MB\n",
    "plt.savefig(\"missing-data_imputation_bias_mar.svg\", dpi=300, bbox_inches=\"tight\")"
   ]
  },
  {
   "cell_type": "code",
   "execution_count": null,
   "metadata": {},
   "outputs": [],
   "source": []
  }
 ],
 "metadata": {
  "kernelspec": {
   "display_name": "ehrapy_venv_theislab_apr",
   "language": "python",
   "name": "python3"
  },
  "language_info": {
   "codemirror_mode": {
    "name": "ipython",
    "version": 3
   },
   "file_extension": ".py",
   "mimetype": "text/x-python",
   "name": "python",
   "nbconvert_exporter": "python",
   "pygments_lexer": "ipython3",
   "version": "3.11.9"
  }
 },
 "nbformat": 4,
 "nbformat_minor": 2
}
