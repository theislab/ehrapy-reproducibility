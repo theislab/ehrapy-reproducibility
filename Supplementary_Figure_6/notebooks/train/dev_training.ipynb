{
 "cells": [
  {
   "cell_type": "code",
   "execution_count": 1,
   "id": "972654a4-bf6e-4343-8cf0-2a783f03b108",
   "metadata": {
    "tags": []
   },
   "outputs": [],
   "source": [
    "from torchinfo import summary\n",
    "import torch\n",
    "import torch.nn as nn\n",
    "import torch.nn.functional as F\n",
    "from diabetic_retinopathy.latent_extractors.predictors.opts import ModelOptions\n",
    "from diabetic_retinopathy.latent_extractors.predictors.NNExtractor import NNExtractor\n",
    "from diabetic_retinopathy.constants import (\n",
    "    DATASPLIT_DIR,\n",
    "    MODELS_DIR,\n",
    "    PROCESSED_DIR,\n",
    "    PhaseType,\n",
    "    TRAIN_CONFIG,\n",
    ")\n",
    "import toml"
   ]
  },
  {
   "cell_type": "code",
   "execution_count": 2,
   "id": "ba3062fc-dd5f-4c39-ae8b-b0ee86a40ca0",
   "metadata": {
    "tags": []
   },
   "outputs": [],
   "source": [
    "from ehrapylat.latent_extractors.predictors.models.LatentExtractor import Models"
   ]
  },
  {
   "cell_type": "code",
   "execution_count": 3,
   "id": "e530d282-352c-4db6-a293-c704b0420697",
   "metadata": {
    "tags": []
   },
   "outputs": [],
   "source": [
    "import warnings\n",
    "\n",
    "warnings.filterwarnings(\"ignore\")"
   ]
  },
  {
   "cell_type": "code",
   "execution_count": 4,
   "id": "70b959d4-7150-4066-aa76-9f4f60244861",
   "metadata": {
    "tags": []
   },
   "outputs": [
    {
     "data": {
      "text/plain": [
       "['resnet18ImgNetFC', 'resnet18RawFC', 'resnet18ActBasedFC']"
      ]
     },
     "execution_count": 4,
     "metadata": {},
     "output_type": "execute_result"
    }
   ],
   "source": [
    "models = [el for el in list(Models.__members__.keys()) if \"FC\" in el and \"18\" in el]\n",
    "models"
   ]
  },
  {
   "cell_type": "code",
   "execution_count": 43,
   "id": "4dce91d8-916c-4ce5-936b-00da6cf533e7",
   "metadata": {
    "tags": []
   },
   "outputs": [
    {
     "name": "stdout",
     "output_type": "stream",
     "text": [
      "{'model_type': 'resnet18ActBasedFC', 'nn_loss': 'CrossEntropyLoss', 'find_lr': False, 'lr': 0.0001, 'overwrite': False, 'num_workers': 2, 'batch_size': 64, 'lr_policy': 'constant', 'num_epochs': 2000, 'augmentations': True, 'model': 'resnet18ImgNetFC'}\n",
      "{'model_type': 'resnet18ActBasedFC', 'nn_loss': 'CrossEntropyLoss', 'find_lr': False, 'lr': 0.0001, 'overwrite': False, 'num_workers': 2, 'batch_size': 64, 'lr_policy': 'constant', 'num_epochs': 2000, 'augmentations': True, 'model': 'resnet18RawFC'}\n",
      "{'model_type': 'resnet18ActBasedFC', 'nn_loss': 'CrossEntropyLoss', 'find_lr': False, 'lr': 0.0001, 'overwrite': False, 'num_workers': 2, 'batch_size': 64, 'lr_policy': 'constant', 'num_epochs': 2000, 'augmentations': True, 'model': 'resnet18ActBasedFC'}\n"
     ]
    }
   ],
   "source": [
    "for ind_config, model in enumerate(models):\n",
    "\n",
    "    config_path = TRAIN_CONFIG / \"standart_configs\" / \"config-FC_cl.toml\"\n",
    "    config_dict = toml.load(config_path)\n",
    "\n",
    "    config_dict[\"model\"] = model\n",
    "    # print(config_dict)\n",
    "    with open(TRAIN_CONFIG / \"running_configs\" / f\"config-{ind_config}.toml\", \"w\") as f:\n",
    "        toml.dump(config_dict, f)\n",
    "\n",
    "    config_dict = toml.load(\n",
    "        TRAIN_CONFIG / \"running_configs\" / f\"config-{ind_config}.toml\"\n",
    "    )\n",
    "    print(config_dict)"
   ]
  },
  {
   "cell_type": "code",
   "execution_count": 3,
   "id": "586104c3-de9c-408a-ad57-84eb43c72f9d",
   "metadata": {
    "tags": []
   },
   "outputs": [],
   "source": [
    "OPTIONS = \"--config_path running_configs/config-0.toml --batch_size 64 --profiler simple --limit_train_batches 1 --limit_val_batches 1 --nn_model_id test\""
   ]
  },
  {
   "cell_type": "code",
   "execution_count": null,
   "id": "5f63fbc1-570e-4ed7-8c22-447d054b9350",
   "metadata": {
    "scrolled": true,
    "tags": []
   },
   "outputs": [
    {
     "name": "stdout",
     "output_type": "stream",
     "text": [
      "Readng config files from running_configs/config-0.toml\n",
      "Loading inference configurations from /dss/dsshome1/02/di93zov/Projects/ehrapy_DR_latents/ehrapy_latents/project_folder/configs/train_configs/running_configs/config-0.toml:\n",
      "Conf file was sucessfully loaded\n",
      "/dss/dsshome1/02/di93zov/Projects/ehrapy_DR_latents/ehrapy_latents/project_folder/experiments/resnet18ImgNetFC-test-version0\n",
      "/dss/dsshome1/02/di93zov/Projects/ehrapy_DR_latents/ehrapy_latents/project_folder/experiments/resnet18ImgNetFC-test-version0 resnet18ImgNetFC-test-version0\n",
      "/dss/dsshome1/02/di93zov/anaconda3/envs/ehrapy/lib/python3.9/site-packages/torchvision/models/_utils.py:208: UserWarning: The parameter 'pretrained' is deprecated since 0.13 and may be removed in the future, please use 'weights' instead.\n",
      "  warnings.warn(\n",
      "/dss/dsshome1/02/di93zov/anaconda3/envs/ehrapy/lib/python3.9/site-packages/torchvision/models/_utils.py:223: UserWarning: Arguments other than a weight enum or `None` for 'weights' are deprecated since 0.13 and may be removed in the future. The current behavior is equivalent to passing `weights=ResNet18_Weights.IMAGENET1K_V1`. You can also use `weights=ResNet18_Weights.DEFAULT` to get the most up-to-date weights.\n",
      "  warnings.warn(msg)\n",
      "/dss/dsshome1/02/di93zov/anaconda3/envs/ehrapy/lib/python3.9/site-packages/pytorch_lightning/utilities/parsing.py:197: UserWarning: Attribute 'model' is an instance of `nn.Module` and is already saved during checkpointing. It is recommended to ignore them using `self.save_hyperparameters(ignore=['model'])`.\n",
      "  rank_zero_warn(\n",
      "Compose(\n",
      "    Resize(size=(256, 256), interpolation=bilinear, max_size=None, antialias=None)\n",
      "    CenterCrop(size=(224, 224))\n",
      "    RandomHorizontalFlip(p=0.5)\n",
      "    ToPILImage()\n",
      "    RandAugment(n=2, ops=\n",
      "\tAugmentOp(name=AutoContrast, p=0.5, m=9, mstd=0.5)\n",
      "\tAugmentOp(name=Equalize, p=0.5, m=9, mstd=0.5)\n",
      "\tAugmentOp(name=Invert, p=0.5, m=9, mstd=0.5)\n",
      "\tAugmentOp(name=Rotate, p=0.5, m=9, mstd=0.5)\n",
      "\tAugmentOp(name=Posterize, p=0.5, m=9, mstd=0.5)\n",
      "\tAugmentOp(name=Solarize, p=0.5, m=9, mstd=0.5)\n",
      "\tAugmentOp(name=SolarizeAdd, p=0.5, m=9, mstd=0.5)\n",
      "\tAugmentOp(name=Color, p=0.5, m=9, mstd=0.5)\n",
      "\tAugmentOp(name=Contrast, p=0.5, m=9, mstd=0.5)\n",
      "\tAugmentOp(name=Brightness, p=0.5, m=9, mstd=0.5)\n",
      "\tAugmentOp(name=Sharpness, p=0.5, m=9, mstd=0.5)\n",
      "\tAugmentOp(name=ShearX, p=0.5, m=9, mstd=0.5)\n",
      "\tAugmentOp(name=ShearY, p=0.5, m=9, mstd=0.5)\n",
      "\tAugmentOp(name=TranslateXRel, p=0.5, m=9, mstd=0.5)\n",
      "\tAugmentOp(name=TranslateYRel, p=0.5, m=9, mstd=0.5))\n",
      "    ToTensor()\n",
      "    Normalize(mean=[0.485, 0.456, 0.406], std=[0.229, 0.224, 0.225])\n",
      ") Compose(\n",
      "    Resize(size=(256, 256), interpolation=bilinear, max_size=None, antialias=None)\n",
      "    CenterCrop(size=(224, 224))\n",
      "    Normalize(mean=[0.485, 0.456, 0.406], std=[0.229, 0.224, 0.225])\n",
      ") False\n",
      "loaded labels from /dss/dsshome1/02/di93zov/Projects/ehrapy_DR_latents/ehrapy_latents/project_folder/data/data_split/train_df.csv, shape: (18386, 6)\n",
      "loaded labels from /dss/dsshome1/02/di93zov/Projects/ehrapy_DR_latents/ehrapy_latents/project_folder/data/data_split/val_df.csv, shape: (3066, 6)\n",
      "[rank: 0] Global seed set to 5\n",
      "GPU available: False, used: False\n",
      "TPU available: False, using: 0 TPU cores\n",
      "IPU available: False, using: 0 IPUs\n",
      "HPU available: False, using: 0 HPUs\n",
      "`Trainer(limit_train_batches=1)` was configured so 1 batch per epoch will be used.\n",
      "`Trainer(limit_val_batches=1)` was configured so 1 batch will be used.\n",
      "loaded labels from /dss/dsshome1/02/di93zov/Projects/ehrapy_DR_latents/ehrapy_latents/project_folder/data/data_split/train_df.csv, shape: (18386, 6)\n",
      "loaded labels from /dss/dsshome1/02/di93zov/Projects/ehrapy_DR_latents/ehrapy_latents/project_folder/data/data_split/val_df.csv, shape: (3066, 6)\n",
      "\n",
      "  | Name      | Type             | Params\n",
      "-----------------------------------------------\n",
      "0 | model     | ResNetAdapted    | 11.3 M\n",
      "1 | criterion | CrossEntropyLoss | 0     \n",
      "-----------------------------------------------\n",
      "11.3 M    Trainable params\n",
      "0         Non-trainable params\n",
      "11.3 M    Total params\n",
      "45.397    Total estimated model params size (MB)\n",
      "SLURM auto-requeueing enabled. Setting signal handlers.\n",
      "Sanity Checking: 0it [00:00, ?it/s]/dss/dsshome1/02/di93zov/anaconda3/envs/ehrapy/lib/python3.9/site-packages/torch/utils/data/dataloader.py:554: UserWarning: This DataLoader will create 2 worker processes in total. Our suggested max number of worker in current system is 1, which is smaller than what this DataLoader is going to create. Please be aware that excessive worker creation might get DataLoader running slow or even freeze, lower the worker number to avoid potential slowness/freeze if necessary.\n",
      "  warnings.warn(_create_warning_msg(\n",
      "/dss/dsshome1/02/di93zov/anaconda3/envs/ehrapy/lib/python3.9/site-packages/pytorch_lightning/trainer/connectors/data_connector.py:430: PossibleUserWarning: The dataloader, val_dataloader, does not have many workers which may be a bottleneck. Consider increasing the value of the `num_workers` argument` (try 56 which is the number of cpus on this machine) in the `DataLoader` init to improve performance.\n",
      "  rank_zero_warn(\n",
      "Sanity Checking DataLoader 0:   0%|                       | 0/1 [00:00<?, ?it/s]/dss/dsshome1/02/di93zov/anaconda3/envs/ehrapy/lib/python3.9/site-packages/pytorch_lightning/utilities/data.py:76: UserWarning: Trying to infer the `batch_size` from an ambiguous collection. The batch size we found is 64. To avoid any miscalculations, use `self.log(..., batch_size=batch_size)`.\n",
      "  warning_cache.warn(\n",
      "/dss/dsshome1/02/di93zov/anaconda3/envs/ehrapy/lib/python3.9/site-packages/pytorch_lightning/trainer/connectors/data_connector.py:430: PossibleUserWarning: The dataloader, train_dataloader, does not have many workers which may be a bottleneck. Consider increasing the value of the `num_workers` argument` (try 56 which is the number of cpus on this machine) in the `DataLoader` init to improve performance.\n",
      "  rank_zero_warn(\n",
      "Epoch 0: 100%|█| 1/1 [01:38<00:00, 98.73s/it, v_num=sion, train_loss=1.640, trai\n",
      "Validation: 0it [00:00, ?it/s]\u001b[A\n",
      "Validation:   0%|                                         | 0/1 [00:00<?, ?it/s]\u001b[A\n",
      "Validation DataLoader 0:   0%|                            | 0/1 [00:00<?, ?it/s]\u001b[A\n",
      "Epoch 0: 100%|█| 1/1 [02:35<00:00, 155.92s/it, v_num=sion, train_loss=1.640, tra\u001b[A\n",
      "Epoch 1: 100%|█| 1/1 [01:40<00:00, 100.88s/it, v_num=sion, train_loss=1.510, tra\u001b[A\n",
      "Validation: 0it [00:00, ?it/s]\u001b[A\n",
      "Validation:   0%|                                         | 0/1 [00:00<?, ?it/s]\u001b[A\n",
      "Validation DataLoader 0:   0%|                            | 0/1 [00:00<?, ?it/s]\u001b[A\n",
      "Epoch 1: 100%|█| 1/1 [02:37<00:00, 157.46s/it, v_num=sion, train_loss=1.510, tra\u001b[A\n",
      "Epoch 2: 100%|█| 1/1 [01:40<00:00, 100.87s/it, v_num=sion, train_loss=1.340, tra\u001b[A\n",
      "Validation: 0it [00:00, ?it/s]\u001b[A\n",
      "Validation:   0%|                                         | 0/1 [00:00<?, ?it/s]\u001b[A\n",
      "Validation DataLoader 0:   0%|                            | 0/1 [00:00<?, ?it/s]\u001b[A\n",
      "Epoch 2: 100%|█| 1/1 [02:37<00:00, 157.44s/it, v_num=sion, train_loss=1.340, tra\u001b[A\n",
      "Epoch 3: 100%|█| 1/1 [01:40<00:00, 100.83s/it, v_num=sion, train_loss=1.110, tra\u001b[A\n",
      "Validation: 0it [00:00, ?it/s]\u001b[A\n",
      "Validation:   0%|                                         | 0/1 [00:00<?, ?it/s]\u001b[A\n",
      "Validation DataLoader 0:   0%|                            | 0/1 [00:00<?, ?it/s]\u001b[A\n",
      "Epoch 3: 100%|█| 1/1 [02:37<00:00, 157.38s/it, v_num=sion, train_loss=1.110, tra\u001b[A\n",
      "Epoch 4: 100%|█| 1/1 [01:40<00:00, 100.99s/it, v_num=sion, train_loss=0.818, tra\u001b[A\n",
      "Validation: 0it [00:00, ?it/s]\u001b[A\n",
      "Validation:   0%|                                         | 0/1 [00:00<?, ?it/s]\u001b[A\n",
      "Validation DataLoader 0:   0%|                            | 0/1 [00:00<?, ?it/s]\u001b[A\n",
      "Epoch 4: 100%|█| 1/1 [02:37<00:00, 157.60s/it, v_num=sion, train_loss=0.818, tra\u001b[A\n",
      "Epoch 5: 100%|█| 1/1 [01:41<00:00, 101.40s/it, v_num=sion, train_loss=0.631, tra\u001b[A\n",
      "Validation: 0it [00:00, ?it/s]\u001b[A\n",
      "Validation:   0%|                                         | 0/1 [00:00<?, ?it/s]\u001b[A\n",
      "Validation DataLoader 0:   0%|                            | 0/1 [00:00<?, ?it/s]\u001b[A\n",
      "Epoch 5: 100%|█| 1/1 [02:38<00:00, 158.00s/it, v_num=sion, train_loss=0.631, tra\u001b[A\n",
      "Epoch 6: 100%|█| 1/1 [01:41<00:00, 101.45s/it, v_num=sion, train_loss=0.516, tra\u001b[A\n",
      "Validation: 0it [00:00, ?it/s]\u001b[A\n",
      "Validation:   0%|                                         | 0/1 [00:00<?, ?it/s]\u001b[A\n",
      "Validation DataLoader 0:   0%|                            | 0/1 [00:00<?, ?it/s]\u001b[A\n",
      "Epoch 6: 100%|█| 1/1 [02:38<00:00, 158.01s/it, v_num=sion, train_loss=0.516, tra\u001b[A\n",
      "Epoch 7: 100%|█| 1/1 [01:47<00:00, 107.61s/it, v_num=sion, train_loss=0.599, tra\u001b[A\n",
      "Validation: 0it [00:00, ?it/s]\u001b[A\n",
      "Validation:   0%|                                         | 0/1 [00:00<?, ?it/s]\u001b[A\n",
      "Validation DataLoader 0:   0%|                            | 0/1 [00:00<?, ?it/s]\u001b[A\n",
      "Epoch 7: 100%|█| 1/1 [02:44<00:00, 164.20s/it, v_num=sion, train_loss=0.599, tra\u001b[A\n",
      "Epoch 8: 100%|█| 1/1 [01:41<00:00, 101.41s/it, v_num=sion, train_loss=0.536, tra\u001b[A\n",
      "Validation: 0it [00:00, ?it/s]\u001b[A\n",
      "Validation:   0%|                                         | 0/1 [00:00<?, ?it/s]\u001b[A\n",
      "Validation DataLoader 0:   0%|                            | 0/1 [00:00<?, ?it/s]\u001b[A\n",
      "Epoch 8: 100%|█| 1/1 [02:38<00:00, 158.02s/it, v_num=sion, train_loss=0.536, tra\u001b[A\n",
      "Epoch 9: 100%|█| 1/1 [01:41<00:00, 101.39s/it, v_num=sion, train_loss=0.347, tra\u001b[A\n",
      "Validation: 0it [00:00, ?it/s]\u001b[A\n",
      "Validation:   0%|                                         | 0/1 [00:00<?, ?it/s]\u001b[A\n",
      "Validation DataLoader 0:   0%|                            | 0/1 [00:00<?, ?it/s]\u001b[A\n",
      "Epoch 9: 100%|█| 1/1 [02:37<00:00, 157.91s/it, v_num=sion, train_loss=0.347, tra\u001b[A\n",
      "Epoch 10: 100%|█| 1/1 [01:41<00:00, 101.30s/it, v_num=sion, train_loss=0.356, tr\u001b[A\n",
      "Validation: 0it [00:00, ?it/s]\u001b[A\n",
      "Validation:   0%|                                         | 0/1 [00:00<?, ?it/s]\u001b[A\n",
      "Validation DataLoader 0:   0%|                            | 0/1 [00:00<?, ?it/s]\u001b[A\n",
      "Epoch 10: 100%|█| 1/1 [02:37<00:00, 157.93s/it, v_num=sion, train_loss=0.356, tr\u001b[A\n",
      "Epoch 11: 100%|█| 1/1 [01:41<00:00, 101.30s/it, v_num=sion, train_loss=0.385, tr\u001b[A\n",
      "Validation: 0it [00:00, ?it/s]\u001b[A\n",
      "Validation:   0%|                                         | 0/1 [00:00<?, ?it/s]\u001b[A\n",
      "Validation DataLoader 0:   0%|                            | 0/1 [00:00<?, ?it/s]\u001b[A\n",
      "Epoch 11: 100%|█| 1/1 [02:37<00:00, 157.85s/it, v_num=sion, train_loss=0.385, tr\u001b[A\n",
      "Epoch 12: 100%|█| 1/1 [01:41<00:00, 101.36s/it, v_num=sion, train_loss=0.415, tr\u001b[A\n",
      "Validation: 0it [00:00, ?it/s]\u001b[A\n",
      "Validation:   0%|                                         | 0/1 [00:00<?, ?it/s]\u001b[A\n",
      "Validation DataLoader 0:   0%|                            | 0/1 [00:00<?, ?it/s]\u001b[A\n",
      "Epoch 12: 100%|█| 1/1 [02:37<00:00, 157.91s/it, v_num=sion, train_loss=0.415, tr\u001b[A\n",
      "Epoch 13: 100%|█| 1/1 [01:41<00:00, 101.31s/it, v_num=sion, train_loss=0.362, tr\u001b[A\n",
      "Validation: 0it [00:00, ?it/s]\u001b[A\n",
      "Validation:   0%|                                         | 0/1 [00:00<?, ?it/s]\u001b[A\n",
      "Validation DataLoader 0:   0%|                            | 0/1 [00:00<?, ?it/s]\u001b[A\n",
      "Epoch 13: 100%|█| 1/1 [02:37<00:00, 157.84s/it, v_num=sion, train_loss=0.362, tr\u001b[A\n",
      "Epoch 14: 100%|█| 1/1 [01:41<00:00, 101.29s/it, v_num=sion, train_loss=0.384, tr\u001b[A\n",
      "Validation: 0it [00:00, ?it/s]\u001b[A\n",
      "Validation:   0%|                                         | 0/1 [00:00<?, ?it/s]\u001b[A\n",
      "Validation DataLoader 0:   0%|                            | 0/1 [00:00<?, ?it/s]\u001b[A\n",
      "Epoch 14: 100%|█| 1/1 [02:37<00:00, 157.90s/it, v_num=sion, train_loss=0.384, tr\u001b[A\n",
      "Epoch 15: 100%|█| 1/1 [01:41<00:00, 101.32s/it, v_num=sion, train_loss=0.367, tr\u001b[A\n",
      "Validation: 0it [00:00, ?it/s]\u001b[A\n",
      "Validation:   0%|                                         | 0/1 [00:00<?, ?it/s]\u001b[A\n",
      "Validation DataLoader 0:   0%|                            | 0/1 [00:00<?, ?it/s]\u001b[A\n",
      "Epoch 15: 100%|█| 1/1 [02:37<00:00, 157.89s/it, v_num=sion, train_loss=0.367, tr\u001b[A\n",
      "Epoch 16: 100%|█| 1/1 [01:41<00:00, 101.34s/it, v_num=sion, train_loss=0.424, tr\u001b[A\n",
      "Validation: 0it [00:00, ?it/s]\u001b[A\n",
      "Validation:   0%|                                         | 0/1 [00:00<?, ?it/s]\u001b[A\n",
      "Validation DataLoader 0:   0%|                            | 0/1 [00:00<?, ?it/s]\u001b[A\n",
      "Epoch 16: 100%|█| 1/1 [02:37<00:00, 157.95s/it, v_num=sion, train_loss=0.424, tr\u001b[A\n",
      "Epoch 17: 100%|█| 1/1 [01:41<00:00, 101.41s/it, v_num=sion, train_loss=0.320, tr\u001b[A\n",
      "Validation: 0it [00:00, ?it/s]\u001b[A\n",
      "Validation:   0%|                                         | 0/1 [00:00<?, ?it/s]\u001b[A\n",
      "Validation DataLoader 0:   0%|                            | 0/1 [00:00<?, ?it/s]\u001b[A\n",
      "Epoch 17: 100%|█| 1/1 [02:37<00:00, 157.98s/it, v_num=sion, train_loss=0.320, tr\u001b[A\n",
      "Epoch 18: 100%|█| 1/1 [01:41<00:00, 101.28s/it, v_num=sion, train_loss=0.319, tr\u001b[A\n",
      "Validation: 0it [00:00, ?it/s]\u001b[A\n",
      "Validation:   0%|                                         | 0/1 [00:00<?, ?it/s]\u001b[A\n",
      "Validation DataLoader 0:   0%|                            | 0/1 [00:00<?, ?it/s]\u001b[A\n",
      "Epoch 18: 100%|█| 1/1 [02:37<00:00, 157.82s/it, v_num=sion, train_loss=0.319, tr\u001b[A\n",
      "Epoch 19: 100%|█| 1/1 [01:41<00:00, 101.35s/it, v_num=sion, train_loss=0.319, tr\u001b[A\n",
      "Validation: 0it [00:00, ?it/s]\u001b[A\n",
      "Validation:   0%|                                         | 0/1 [00:00<?, ?it/s]\u001b[A\n",
      "Validation DataLoader 0:   0%|                            | 0/1 [00:00<?, ?it/s]\u001b[A\n",
      "Epoch 19: 100%|█| 1/1 [02:37<00:00, 157.96s/it, v_num=sion, train_loss=0.319, tr\u001b[A\n",
      "Epoch 20: 100%|█| 1/1 [01:41<00:00, 101.48s/it, v_num=sion, train_loss=0.307, tr\u001b[A\n",
      "Validation: 0it [00:00, ?it/s]\u001b[A\n",
      "Validation:   0%|                                         | 0/1 [00:00<?, ?it/s]\u001b[A\n",
      "Validation DataLoader 0:   0%|                            | 0/1 [00:00<?, ?it/s]\u001b[A\n",
      "Epoch 20: 100%|█| 1/1 [02:38<00:00, 158.08s/it, v_num=sion, train_loss=0.307, tr\u001b[A\n",
      "Epoch 21: 100%|█| 1/1 [01:41<00:00, 101.39s/it, v_num=sion, train_loss=0.299, tr\u001b[A\n",
      "Validation: 0it [00:00, ?it/s]\u001b[A\n",
      "Validation:   0%|                                         | 0/1 [00:00<?, ?it/s]\u001b[A\n",
      "Validation DataLoader 0:   0%|                            | 0/1 [00:00<?, ?it/s]\u001b[A\n",
      "Epoch 21: 100%|█| 1/1 [02:37<00:00, 157.97s/it, v_num=sion, train_loss=0.299, tr\u001b[A\n",
      "Epoch 22:   0%| | 0/1 [00:00<?, ?it/s, v_num=sion, train_loss=0.299, train_f1=0.\u001b[A"
     ]
    }
   ],
   "source": [
    "!python -u /dss/dsshome1/02/di93zov/Projects/ehrapy_DR_latents/ehrapy_latents/ehrapylat/cli/cmdline.py train $OPTIONS"
   ]
  },
  {
   "cell_type": "code",
   "execution_count": 4,
   "id": "cab9dbb4-84d7-4eac-a65b-13f7b43001fc",
   "metadata": {
    "tags": []
   },
   "outputs": [],
   "source": [
    "OPTIONS = \"--resume_model_type resnet18RawFC --profiler simple --resume True\""
   ]
  },
  {
   "cell_type": "code",
   "execution_count": 7,
   "id": "730fb981-b16d-4b24-8a3e-dde5b2b96edc",
   "metadata": {
    "scrolled": true,
    "tags": []
   },
   "outputs": [
    {
     "name": "stdout",
     "output_type": "stream",
     "text": [
      "The training for the following models will be resumed:  ['resnet18RawFC-version0', 'resnet18RawFC-version1', 'resnet18RawFC-test_version2']\n",
      "/dss/dsshome1/02/di93zov/anaconda3/envs/ehrapy/lib/python3.9/site-packages/torchvision/models/_utils.py:208: UserWarning: The parameter 'pretrained' is deprecated since 0.13 and may be removed in the future, please use 'weights' instead.\n",
      "  warnings.warn(\n",
      "/dss/dsshome1/02/di93zov/anaconda3/envs/ehrapy/lib/python3.9/site-packages/torchvision/models/_utils.py:223: UserWarning: Arguments other than a weight enum or `None` for 'weights' are deprecated since 0.13 and may be removed in the future. The current behavior is equivalent to passing `weights=None`.\n",
      "  warnings.warn(msg)\n",
      "/dss/dsshome1/02/di93zov/anaconda3/envs/ehrapy/lib/python3.9/site-packages/pytorch_lightning/utilities/parsing.py:197: UserWarning: Attribute 'model' is an instance of `nn.Module` and is already saved during checkpointing. It is recommended to ignore them using `self.save_hyperparameters(ignore=['model'])`.\n",
      "  rank_zero_warn(\n",
      "Compose(\n",
      "    Resize(size=(256, 256), interpolation=bilinear, max_size=None, antialias=None)\n",
      "    CenterCrop(size=(224, 224))\n",
      "    RandomHorizontalFlip(p=0.5)\n",
      "    ToPILImage()\n",
      "    RandAugment(n=2, ops=\n",
      "\tAugmentOp(name=AutoContrast, p=0.5, m=9, mstd=0.5)\n",
      "\tAugmentOp(name=Equalize, p=0.5, m=9, mstd=0.5)\n",
      "\tAugmentOp(name=Invert, p=0.5, m=9, mstd=0.5)\n",
      "\tAugmentOp(name=Rotate, p=0.5, m=9, mstd=0.5)\n",
      "\tAugmentOp(name=Posterize, p=0.5, m=9, mstd=0.5)\n",
      "\tAugmentOp(name=Solarize, p=0.5, m=9, mstd=0.5)\n",
      "\tAugmentOp(name=SolarizeAdd, p=0.5, m=9, mstd=0.5)\n",
      "\tAugmentOp(name=Color, p=0.5, m=9, mstd=0.5)\n",
      "\tAugmentOp(name=Contrast, p=0.5, m=9, mstd=0.5)\n",
      "\tAugmentOp(name=Brightness, p=0.5, m=9, mstd=0.5)\n",
      "\tAugmentOp(name=Sharpness, p=0.5, m=9, mstd=0.5)\n",
      "\tAugmentOp(name=ShearX, p=0.5, m=9, mstd=0.5)\n",
      "\tAugmentOp(name=ShearY, p=0.5, m=9, mstd=0.5)\n",
      "\tAugmentOp(name=TranslateXRel, p=0.5, m=9, mstd=0.5)\n",
      "\tAugmentOp(name=TranslateYRel, p=0.5, m=9, mstd=0.5))\n",
      "    ToTensor()\n",
      "    Normalize(mean=[0.485, 0.456, 0.406], std=[0.229, 0.224, 0.225])\n",
      ") Compose(\n",
      "    Resize(size=(256, 256), interpolation=bilinear, max_size=None, antialias=None)\n",
      "    CenterCrop(size=(224, 224))\n",
      "    Normalize(mean=[0.485, 0.456, 0.406], std=[0.229, 0.224, 0.225])\n",
      ") False\n",
      "loaded labels from /dss/dsshome1/02/di93zov/Projects/ehrapy_DR_latents/ehrapy_latents/project_folder/data/data_split/train_df.csv, shape: (18386, 6)\n",
      "loaded labels from /dss/dsshome1/02/di93zov/Projects/ehrapy_DR_latents/ehrapy_latents/project_folder/data/data_split/val_df.csv, shape: (3066, 6)\n",
      "[rank: 0] Global seed set to 5\n",
      "GPU available: False, used: False\n",
      "TPU available: False, using: 0 TPU cores\n",
      "IPU available: False, using: 0 IPUs\n",
      "HPU available: False, using: 0 HPUs\n",
      "loaded labels from /dss/dsshome1/02/di93zov/Projects/ehrapy_DR_latents/ehrapy_latents/project_folder/data/data_split/train_df.csv, shape: (18386, 6)\n",
      "loaded labels from /dss/dsshome1/02/di93zov/Projects/ehrapy_DR_latents/ehrapy_latents/project_folder/data/data_split/val_df.csv, shape: (3066, 6)\n",
      "/dss/dsshome1/02/di93zov/anaconda3/envs/ehrapy/lib/python3.9/site-packages/pytorch_lightning/callbacks/model_checkpoint.py:612: UserWarning: Checkpoint directory /dss/dssfs02/lwp-dss-0001/pn36po/pn36po-dss-0001/di93zov/ehrapy_nastassya.horlava/project_folder/experiments/resnet18RawFC-version0/best_loss exists and is not empty.\n",
      "  rank_zero_warn(f\"Checkpoint directory {dirpath} exists and is not empty.\")\n",
      "/dss/dsshome1/02/di93zov/anaconda3/envs/ehrapy/lib/python3.9/site-packages/pytorch_lightning/callbacks/model_checkpoint.py:612: UserWarning: Checkpoint directory /dss/dssfs02/lwp-dss-0001/pn36po/pn36po-dss-0001/di93zov/ehrapy_nastassya.horlava/project_folder/experiments/resnet18RawFC-version0/last exists and is not empty.\n",
      "  rank_zero_warn(f\"Checkpoint directory {dirpath} exists and is not empty.\")\n",
      "Restoring states from the checkpoint path at /dss/dsshome1/02/di93zov/Projects/ehrapy_DR_latents/ehrapy_latents/project_folder/experiments/resnet18RawFC-version0/last/checkpoint-epoch=29-step=8640.ckpt\n",
      "\n",
      "  | Name      | Type             | Params\n",
      "-----------------------------------------------\n",
      "0 | model     | ResNetAdapted    | 11.3 M\n",
      "1 | criterion | CrossEntropyLoss | 0     \n",
      "-----------------------------------------------\n",
      "11.3 M    Trainable params\n",
      "0         Non-trainable params\n",
      "11.3 M    Total params\n",
      "45.397    Total estimated model params size (MB)\n",
      "Restored all states from the checkpoint at /dss/dsshome1/02/di93zov/Projects/ehrapy_DR_latents/ehrapy_latents/project_folder/experiments/resnet18RawFC-version0/last/checkpoint-epoch=29-step=8640.ckpt\n",
      "SLURM auto-requeueing enabled. Setting signal handlers.\n",
      "Sanity Checking: 0it [00:00, ?it/s]/dss/dsshome1/02/di93zov/anaconda3/envs/ehrapy/lib/python3.9/site-packages/torch/utils/data/dataloader.py:554: UserWarning: This DataLoader will create 2 worker processes in total. Our suggested max number of worker in current system is 1, which is smaller than what this DataLoader is going to create. Please be aware that excessive worker creation might get DataLoader running slow or even freeze, lower the worker number to avoid potential slowness/freeze if necessary.\n",
      "  warnings.warn(_create_warning_msg(\n",
      "/dss/dsshome1/02/di93zov/anaconda3/envs/ehrapy/lib/python3.9/site-packages/pytorch_lightning/trainer/connectors/data_connector.py:430: PossibleUserWarning: The dataloader, val_dataloader, does not have many workers which may be a bottleneck. Consider increasing the value of the `num_workers` argument` (try 56 which is the number of cpus on this machine) in the `DataLoader` init to improve performance.\n",
      "  rank_zero_warn(\n",
      "Sanity Checking DataLoader 0:   0%|                       | 0/2 [00:00<?, ?it/s]^C\n"
     ]
    }
   ],
   "source": [
    "!python -u /dss/dsshome1/02/di93zov/Projects/ehrapy_DR_latents/ehrapy_latents/ehrapylat/cli/cmdline.py train $OPTIONS"
   ]
  },
  {
   "cell_type": "code",
   "execution_count": null,
   "id": "dd2bb5c3-c833-422d-ab9f-9aa2251d3360",
   "metadata": {
    "tags": []
   },
   "outputs": [],
   "source": [
    "import torch\n",
    "\n",
    "ckpt_path = \"/dss/dsshome1/02/di93zov/Projects/ehrapy_DR_latents/ehrapy_latents/project_folder/experiments/resnet18RawFC-test_version2/last/checkpoint-epoch=80-step=23328.ckpt\"\n",
    "state_dict = torch.load(ckpt_path, map_location=torch.device(\"cpu\"))"
   ]
  },
  {
   "cell_type": "code",
   "execution_count": 2,
   "id": "3b36e514-e5f9-4add-9d82-a5edff276ff7",
   "metadata": {
    "tags": []
   },
   "outputs": [],
   "source": [
    "import torch\n",
    "\n",
    "ckpt_path_2 = \"/dss/dsshome1/02/di93zov/Projects/LODE/LODEPRED/project_folder/experiments/3classes/limited_by_visits/visit_ind-0_1/pd-multiindex/assembled-True__regional-False__wo_meta__sqrt-False_cube-False__with_cur_va__obj-class__task-classification-version0/models/GRU-CrossEntropyLoss-numLayers-1_dropout-True-version0/5_fold_split/fold-0/last/checkpoint-epoch=1999-step=10000.ckpt\"\n",
    "state_dict_2 = torch.load(ckpt_path_2, map_location=torch.device(\"cpu\"))"
   ]
  },
  {
   "cell_type": "code",
   "execution_count": 3,
   "id": "37ccee21-dd69-4225-89be-50f1a8ca86a3",
   "metadata": {
    "tags": []
   },
   "outputs": [
    {
     "data": {
      "text/plain": [
       "dict_keys(['epoch', 'global_step', 'pytorch-lightning_version', 'state_dict', 'loops', 'callbacks', 'optimizer_states', 'lr_schedulers', 'hparams_name', 'hyper_parameters'])"
      ]
     },
     "execution_count": 3,
     "metadata": {},
     "output_type": "execute_result"
    }
   ],
   "source": [
    "state_dict_2.keys()"
   ]
  },
  {
   "cell_type": "code",
   "execution_count": 29,
   "id": "3523a61b-7373-42d1-bdbb-15f74e651111",
   "metadata": {
    "tags": []
   },
   "outputs": [
    {
     "data": {
      "text/plain": [
       "0.0001"
      ]
     },
     "execution_count": 29,
     "metadata": {},
     "output_type": "execute_result"
    }
   ],
   "source": [
    "state_dict[\"hyper_parameters\"][\"lr\"]"
   ]
  },
  {
   "cell_type": "code",
   "execution_count": 9,
   "id": "d7035b57-b7e6-400c-a4f6-45839bf53d63",
   "metadata": {},
   "outputs": [],
   "source": [
    "import pickle as pkl\n",
    "\n",
    "path = \"/dss/dsshome1/02/di93zov/Projects/ehrapy_DR_latents/ehrapy_latents/project_folder/experiments/resnet18ActBasedFC-version1/params.pkl\"\n",
    "with open(path, \"rb\") as f:\n",
    "    opts_dict = pkl.load(f)"
   ]
  },
  {
   "cell_type": "code",
   "execution_count": 10,
   "id": "60a66fc6-819f-4b2b-a332-5fb900f70dcb",
   "metadata": {
    "tags": []
   },
   "outputs": [
    {
     "data": {
      "text/plain": [
       "{'config_path': 'running_configs/config-2.toml',\n",
       " 'batch_size': 64,\n",
       " 'profiler': 'simple',\n",
       " 'model': 'resnet18ActBasedFC',\n",
       " 'overwrite': False,\n",
       " 'num_workers': 2,\n",
       " 'lr_policy': 'constant',\n",
       " 'lr': 0.0001,\n",
       " 'find_lr': False,\n",
       " 'num_epochs': 2000,\n",
       " 'n_ep_decay': 600,\n",
       " 'gpu': False,\n",
       " 'limit_train_batches': None,\n",
       " 'limit_val_batches': None,\n",
       " 'resume': False,\n",
       " 'nn_model_id': None,\n",
       " 'nn_loss': 'CrossEntropyLoss',\n",
       " 'weighted_sampler': False,\n",
       " 'seed': 5,\n",
       " 'deterministic': True,\n",
       " 'compensation': 'memory',\n",
       " 'gradient_clip_val': None,\n",
       " 'model_type': 'resnet18ActBasedFC',\n",
       " 'augmentations': True,\n",
       " 'train': True,\n",
       " 'model_path': '/dss/dsshome1/02/di93zov/Projects/ehrapy_DR_latents/ehrapy_latents/project_folder/experiments/resnet18ActBasedFC-version1',\n",
       " 'model_name': 'resnet18ActBasedFC-version1'}"
      ]
     },
     "execution_count": 10,
     "metadata": {},
     "output_type": "execute_result"
    }
   ],
   "source": [
    "opts_dict"
   ]
  },
  {
   "cell_type": "code",
   "execution_count": 2,
   "id": "dfe85e22-63de-44eb-a43e-f906421aefb0",
   "metadata": {},
   "outputs": [],
   "source": [
    "from ehrapylat.constants import CHECKPOINT_DIR\n",
    "import torch\n",
    "\n",
    "model_checkpoint_dir = CHECKPOINT_DIR / \"kaggle\" / \"kaggle_weights.pth\"\n",
    "\n",
    "model = torch.load(model_checkpoint_dir, map_location=torch.device(\"cpu\"))"
   ]
  },
  {
   "cell_type": "code",
   "execution_count": 3,
   "id": "6eb29f75-863a-4fbf-9914-95c74f1075cf",
   "metadata": {
    "scrolled": true,
    "tags": []
   },
   "outputs": [
    {
     "data": {
      "text/plain": [
       "ResNet(\n",
       "  (conv1): Conv2d(3, 64, kernel_size=(7, 7), stride=(2, 2), padding=(3, 3), bias=False)\n",
       "  (bn1): BatchNorm2d(64, eps=1e-05, momentum=0.1, affine=True, track_running_stats=True)\n",
       "  (relu): ReLU(inplace=True)\n",
       "  (maxpool): MaxPool2d(kernel_size=3, stride=2, padding=1, dilation=1, ceil_mode=False)\n",
       "  (layer1): Sequential(\n",
       "    (0): BasicBlock(\n",
       "      (conv1): Conv2d(64, 64, kernel_size=(3, 3), stride=(1, 1), padding=(1, 1), bias=False)\n",
       "      (bn1): BatchNorm2d(64, eps=1e-05, momentum=0.1, affine=True, track_running_stats=True)\n",
       "      (relu): ReLU(inplace=True)\n",
       "      (conv2): Conv2d(64, 64, kernel_size=(3, 3), stride=(1, 1), padding=(1, 1), bias=False)\n",
       "      (bn2): BatchNorm2d(64, eps=1e-05, momentum=0.1, affine=True, track_running_stats=True)\n",
       "    )\n",
       "    (1): BasicBlock(\n",
       "      (conv1): Conv2d(64, 64, kernel_size=(3, 3), stride=(1, 1), padding=(1, 1), bias=False)\n",
       "      (bn1): BatchNorm2d(64, eps=1e-05, momentum=0.1, affine=True, track_running_stats=True)\n",
       "      (relu): ReLU(inplace=True)\n",
       "      (conv2): Conv2d(64, 64, kernel_size=(3, 3), stride=(1, 1), padding=(1, 1), bias=False)\n",
       "      (bn2): BatchNorm2d(64, eps=1e-05, momentum=0.1, affine=True, track_running_stats=True)\n",
       "    )\n",
       "    (2): BasicBlock(\n",
       "      (conv1): Conv2d(64, 64, kernel_size=(3, 3), stride=(1, 1), padding=(1, 1), bias=False)\n",
       "      (bn1): BatchNorm2d(64, eps=1e-05, momentum=0.1, affine=True, track_running_stats=True)\n",
       "      (relu): ReLU(inplace=True)\n",
       "      (conv2): Conv2d(64, 64, kernel_size=(3, 3), stride=(1, 1), padding=(1, 1), bias=False)\n",
       "      (bn2): BatchNorm2d(64, eps=1e-05, momentum=0.1, affine=True, track_running_stats=True)\n",
       "    )\n",
       "  )\n",
       "  (layer2): Sequential(\n",
       "    (0): BasicBlock(\n",
       "      (conv1): Conv2d(64, 128, kernel_size=(3, 3), stride=(2, 2), padding=(1, 1), bias=False)\n",
       "      (bn1): BatchNorm2d(128, eps=1e-05, momentum=0.1, affine=True, track_running_stats=True)\n",
       "      (relu): ReLU(inplace=True)\n",
       "      (conv2): Conv2d(128, 128, kernel_size=(3, 3), stride=(1, 1), padding=(1, 1), bias=False)\n",
       "      (bn2): BatchNorm2d(128, eps=1e-05, momentum=0.1, affine=True, track_running_stats=True)\n",
       "      (downsample): Sequential(\n",
       "        (0): Conv2d(64, 128, kernel_size=(1, 1), stride=(2, 2), bias=False)\n",
       "        (1): BatchNorm2d(128, eps=1e-05, momentum=0.1, affine=True, track_running_stats=True)\n",
       "      )\n",
       "    )\n",
       "    (1): BasicBlock(\n",
       "      (conv1): Conv2d(128, 128, kernel_size=(3, 3), stride=(1, 1), padding=(1, 1), bias=False)\n",
       "      (bn1): BatchNorm2d(128, eps=1e-05, momentum=0.1, affine=True, track_running_stats=True)\n",
       "      (relu): ReLU(inplace=True)\n",
       "      (conv2): Conv2d(128, 128, kernel_size=(3, 3), stride=(1, 1), padding=(1, 1), bias=False)\n",
       "      (bn2): BatchNorm2d(128, eps=1e-05, momentum=0.1, affine=True, track_running_stats=True)\n",
       "    )\n",
       "    (2): BasicBlock(\n",
       "      (conv1): Conv2d(128, 128, kernel_size=(3, 3), stride=(1, 1), padding=(1, 1), bias=False)\n",
       "      (bn1): BatchNorm2d(128, eps=1e-05, momentum=0.1, affine=True, track_running_stats=True)\n",
       "      (relu): ReLU(inplace=True)\n",
       "      (conv2): Conv2d(128, 128, kernel_size=(3, 3), stride=(1, 1), padding=(1, 1), bias=False)\n",
       "      (bn2): BatchNorm2d(128, eps=1e-05, momentum=0.1, affine=True, track_running_stats=True)\n",
       "    )\n",
       "    (3): BasicBlock(\n",
       "      (conv1): Conv2d(128, 128, kernel_size=(3, 3), stride=(1, 1), padding=(1, 1), bias=False)\n",
       "      (bn1): BatchNorm2d(128, eps=1e-05, momentum=0.1, affine=True, track_running_stats=True)\n",
       "      (relu): ReLU(inplace=True)\n",
       "      (conv2): Conv2d(128, 128, kernel_size=(3, 3), stride=(1, 1), padding=(1, 1), bias=False)\n",
       "      (bn2): BatchNorm2d(128, eps=1e-05, momentum=0.1, affine=True, track_running_stats=True)\n",
       "    )\n",
       "  )\n",
       "  (layer3): Sequential(\n",
       "    (0): BasicBlock(\n",
       "      (conv1): Conv2d(128, 256, kernel_size=(3, 3), stride=(2, 2), padding=(1, 1), bias=False)\n",
       "      (bn1): BatchNorm2d(256, eps=1e-05, momentum=0.1, affine=True, track_running_stats=True)\n",
       "      (relu): ReLU(inplace=True)\n",
       "      (conv2): Conv2d(256, 256, kernel_size=(3, 3), stride=(1, 1), padding=(1, 1), bias=False)\n",
       "      (bn2): BatchNorm2d(256, eps=1e-05, momentum=0.1, affine=True, track_running_stats=True)\n",
       "      (downsample): Sequential(\n",
       "        (0): Conv2d(128, 256, kernel_size=(1, 1), stride=(2, 2), bias=False)\n",
       "        (1): BatchNorm2d(256, eps=1e-05, momentum=0.1, affine=True, track_running_stats=True)\n",
       "      )\n",
       "    )\n",
       "    (1): BasicBlock(\n",
       "      (conv1): Conv2d(256, 256, kernel_size=(3, 3), stride=(1, 1), padding=(1, 1), bias=False)\n",
       "      (bn1): BatchNorm2d(256, eps=1e-05, momentum=0.1, affine=True, track_running_stats=True)\n",
       "      (relu): ReLU(inplace=True)\n",
       "      (conv2): Conv2d(256, 256, kernel_size=(3, 3), stride=(1, 1), padding=(1, 1), bias=False)\n",
       "      (bn2): BatchNorm2d(256, eps=1e-05, momentum=0.1, affine=True, track_running_stats=True)\n",
       "    )\n",
       "    (2): BasicBlock(\n",
       "      (conv1): Conv2d(256, 256, kernel_size=(3, 3), stride=(1, 1), padding=(1, 1), bias=False)\n",
       "      (bn1): BatchNorm2d(256, eps=1e-05, momentum=0.1, affine=True, track_running_stats=True)\n",
       "      (relu): ReLU(inplace=True)\n",
       "      (conv2): Conv2d(256, 256, kernel_size=(3, 3), stride=(1, 1), padding=(1, 1), bias=False)\n",
       "      (bn2): BatchNorm2d(256, eps=1e-05, momentum=0.1, affine=True, track_running_stats=True)\n",
       "    )\n",
       "    (3): BasicBlock(\n",
       "      (conv1): Conv2d(256, 256, kernel_size=(3, 3), stride=(1, 1), padding=(1, 1), bias=False)\n",
       "      (bn1): BatchNorm2d(256, eps=1e-05, momentum=0.1, affine=True, track_running_stats=True)\n",
       "      (relu): ReLU(inplace=True)\n",
       "      (conv2): Conv2d(256, 256, kernel_size=(3, 3), stride=(1, 1), padding=(1, 1), bias=False)\n",
       "      (bn2): BatchNorm2d(256, eps=1e-05, momentum=0.1, affine=True, track_running_stats=True)\n",
       "    )\n",
       "    (4): BasicBlock(\n",
       "      (conv1): Conv2d(256, 256, kernel_size=(3, 3), stride=(1, 1), padding=(1, 1), bias=False)\n",
       "      (bn1): BatchNorm2d(256, eps=1e-05, momentum=0.1, affine=True, track_running_stats=True)\n",
       "      (relu): ReLU(inplace=True)\n",
       "      (conv2): Conv2d(256, 256, kernel_size=(3, 3), stride=(1, 1), padding=(1, 1), bias=False)\n",
       "      (bn2): BatchNorm2d(256, eps=1e-05, momentum=0.1, affine=True, track_running_stats=True)\n",
       "    )\n",
       "    (5): BasicBlock(\n",
       "      (conv1): Conv2d(256, 256, kernel_size=(3, 3), stride=(1, 1), padding=(1, 1), bias=False)\n",
       "      (bn1): BatchNorm2d(256, eps=1e-05, momentum=0.1, affine=True, track_running_stats=True)\n",
       "      (relu): ReLU(inplace=True)\n",
       "      (conv2): Conv2d(256, 256, kernel_size=(3, 3), stride=(1, 1), padding=(1, 1), bias=False)\n",
       "      (bn2): BatchNorm2d(256, eps=1e-05, momentum=0.1, affine=True, track_running_stats=True)\n",
       "    )\n",
       "  )\n",
       "  (layer4): Sequential(\n",
       "    (0): BasicBlock(\n",
       "      (conv1): Conv2d(256, 512, kernel_size=(3, 3), stride=(2, 2), padding=(1, 1), bias=False)\n",
       "      (bn1): BatchNorm2d(512, eps=1e-05, momentum=0.1, affine=True, track_running_stats=True)\n",
       "      (relu): ReLU(inplace=True)\n",
       "      (conv2): Conv2d(512, 512, kernel_size=(3, 3), stride=(1, 1), padding=(1, 1), bias=False)\n",
       "      (bn2): BatchNorm2d(512, eps=1e-05, momentum=0.1, affine=True, track_running_stats=True)\n",
       "      (downsample): Sequential(\n",
       "        (0): Conv2d(256, 512, kernel_size=(1, 1), stride=(2, 2), bias=False)\n",
       "        (1): BatchNorm2d(512, eps=1e-05, momentum=0.1, affine=True, track_running_stats=True)\n",
       "      )\n",
       "    )\n",
       "    (1): BasicBlock(\n",
       "      (conv1): Conv2d(512, 512, kernel_size=(3, 3), stride=(1, 1), padding=(1, 1), bias=False)\n",
       "      (bn1): BatchNorm2d(512, eps=1e-05, momentum=0.1, affine=True, track_running_stats=True)\n",
       "      (relu): ReLU(inplace=True)\n",
       "      (conv2): Conv2d(512, 512, kernel_size=(3, 3), stride=(1, 1), padding=(1, 1), bias=False)\n",
       "      (bn2): BatchNorm2d(512, eps=1e-05, momentum=0.1, affine=True, track_running_stats=True)\n",
       "    )\n",
       "    (2): BasicBlock(\n",
       "      (conv1): Conv2d(512, 512, kernel_size=(3, 3), stride=(1, 1), padding=(1, 1), bias=False)\n",
       "      (bn1): BatchNorm2d(512, eps=1e-05, momentum=0.1, affine=True, track_running_stats=True)\n",
       "      (relu): ReLU(inplace=True)\n",
       "      (conv2): Conv2d(512, 512, kernel_size=(3, 3), stride=(1, 1), padding=(1, 1), bias=False)\n",
       "      (bn2): BatchNorm2d(512, eps=1e-05, momentum=0.1, affine=True, track_running_stats=True)\n",
       "    )\n",
       "  )\n",
       "  (avgpool): AdaptiveAvgPool2d(output_size=(1, 1))\n",
       "  (fc): Sequential(\n",
       "    (0): Linear(in_features=512, out_features=256, bias=True)\n",
       "    (1): ReLU(inplace=True)\n",
       "    (2): Linear(in_features=256, out_features=128, bias=True)\n",
       "    (3): ReLU(inplace=True)\n",
       "    (4): Linear(in_features=128, out_features=64, bias=True)\n",
       "    (5): ReLU(inplace=True)\n",
       "    (6): Linear(in_features=64, out_features=5, bias=True)\n",
       "  )\n",
       ")"
      ]
     },
     "execution_count": 3,
     "metadata": {},
     "output_type": "execute_result"
    }
   ],
   "source": [
    "model"
   ]
  },
  {
   "cell_type": "code",
   "execution_count": 7,
   "id": "509dc236-1dbc-45db-8f6b-b282a6e3a21b",
   "metadata": {
    "tags": []
   },
   "outputs": [
    {
     "name": "stdout",
     "output_type": "stream",
     "text": [
      "Linear(in_features=512, out_features=256, bias=True)\n",
      "ReLU(inplace=True)\n",
      "Linear(in_features=256, out_features=128, bias=True)\n",
      "ReLU(inplace=True)\n",
      "Linear(in_features=128, out_features=64, bias=True)\n",
      "ReLU(inplace=True)\n",
      "Linear(in_features=64, out_features=5, bias=True)\n"
     ]
    }
   ],
   "source": [
    "for el in list(model.fc):\n",
    "    print(el)"
   ]
  },
  {
   "cell_type": "code",
   "execution_count": 28,
   "id": "d4e58815-4b82-4d6a-b4fa-5549d02b5d9e",
   "metadata": {
    "tags": []
   },
   "outputs": [],
   "source": [
    "# To get embeddings -> Get rid of last two layers in Fully connected layer\n",
    "import torch.nn as nn\n",
    "\n",
    "fc1 = nn.Sequential(\n",
    "    model.fc[0], model.fc[1], model.fc[2], model.fc[3], model.fc[4], model.fc[5]\n",
    ")\n",
    "fc2 = nn.Sequential(model.fc[0:-1])"
   ]
  },
  {
   "cell_type": "code",
   "execution_count": 29,
   "id": "7984d6d6-5861-49fe-96a9-db28eeb391c4",
   "metadata": {
    "tags": []
   },
   "outputs": [
    {
     "data": {
      "text/plain": [
       "Sequential(\n",
       "  (0): Sequential(\n",
       "    (0): Linear(in_features=512, out_features=256, bias=True)\n",
       "    (1): ReLU(inplace=True)\n",
       "    (2): Linear(in_features=256, out_features=128, bias=True)\n",
       "    (3): ReLU(inplace=True)\n",
       "    (4): Linear(in_features=128, out_features=64, bias=True)\n",
       "  )\n",
       ")"
      ]
     },
     "execution_count": 29,
     "metadata": {},
     "output_type": "execute_result"
    }
   ],
   "source": [
    "fc2"
   ]
  },
  {
   "cell_type": "code",
   "execution_count": 22,
   "id": "33454a91-f947-4b55-8006-928d4bd043a7",
   "metadata": {
    "tags": []
   },
   "outputs": [
    {
     "data": {
      "text/plain": [
       "Sequential(\n",
       "  (0): Linear(in_features=512, out_features=256, bias=True)\n",
       "  (1): ReLU(inplace=True)\n",
       "  (2): Linear(in_features=256, out_features=128, bias=True)\n",
       "  (3): ReLU(inplace=True)\n",
       "  (4): Linear(in_features=128, out_features=64, bias=True)\n",
       "  (5): ReLU(inplace=True)\n",
       ")"
      ]
     },
     "execution_count": 22,
     "metadata": {},
     "output_type": "execute_result"
    }
   ],
   "source": [
    "fc1"
   ]
  },
  {
   "cell_type": "code",
   "execution_count": 27,
   "id": "f702c9c4-b106-4f07-9cb3-45b0e0b0fc99",
   "metadata": {
    "tags": []
   },
   "outputs": [
    {
     "data": {
      "text/plain": [
       "True"
      ]
     },
     "execution_count": 27,
     "metadata": {},
     "output_type": "execute_result"
    }
   ],
   "source": [
    "for i, el in fc2[0][0]==fc1[0]"
   ]
  },
  {
   "cell_type": "code",
   "execution_count": null,
   "id": "0e332dbd-27c6-40d2-a4e8-f0ce14e91f2c",
   "metadata": {},
   "outputs": [],
   "source": []
  }
 ],
 "metadata": {
  "kernelspec": {
   "display_name": "Python 3 (ipykernel)",
   "language": "python",
   "name": "python3"
  },
  "language_info": {
   "codemirror_mode": {
    "name": "ipython",
    "version": 3
   },
   "file_extension": ".py",
   "mimetype": "text/x-python",
   "name": "python",
   "nbconvert_exporter": "python",
   "pygments_lexer": "ipython3",
   "version": "3.9.16"
  }
 },
 "nbformat": 4,
 "nbformat_minor": 5
}
