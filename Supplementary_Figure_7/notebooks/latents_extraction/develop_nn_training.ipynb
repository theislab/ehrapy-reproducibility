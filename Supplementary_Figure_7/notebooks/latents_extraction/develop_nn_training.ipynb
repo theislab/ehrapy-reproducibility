{
 "cells": [
  {
   "cell_type": "code",
   "execution_count": 1,
   "id": "226f498d-9dd1-4d4c-b3e6-4c167c575d61",
   "metadata": {
    "tags": []
   },
   "outputs": [],
   "source": [
    "from diabetic_retinopathy.latent_extractors.predictors.utils import (\n",
    "    Stage,\n",
    "    FinishCallback,\n",
    "    NNModel,\n",
    ")\n",
    "from diabetic_retinopathy.constants import MODELS_DIR, RESULTS_DIR\n",
    "from diabetic_retinopathy.latent_extractors.predictors.models.LatentExtractor import (\n",
    "    Models,\n",
    ")\n",
    "import torchvision.models as tm\n",
    "\n",
    "# from diabetic_retinopathy.latent_extractors.predictors.utils import Stage"
   ]
  },
  {
   "cell_type": "code",
   "execution_count": 2,
   "id": "923827f1-e36a-480d-978e-998757d32d30",
   "metadata": {
    "tags": []
   },
   "outputs": [],
   "source": [
    "from torchinfo import summary\n",
    "import torch\n",
    "import torch.nn as nn\n",
    "import torch.nn.functional as F\n",
    "from diabetic_retinopathy.latent_extractors.predictors.opts import ModelOptions\n",
    "from diabetic_retinopathy.latent_extractors.predictors.NNExtractor import NNExtractor"
   ]
  },
  {
   "cell_type": "code",
   "execution_count": 3,
   "id": "45017d35-f94c-47ed-8196-9c13ed021f0a",
   "metadata": {
    "tags": []
   },
   "outputs": [],
   "source": [
    "import warnings\n",
    "\n",
    "warnings.filterwarnings(\"ignore\")"
   ]
  },
  {
   "cell_type": "code",
   "execution_count": 18,
   "id": "3c009982-970f-4e3e-902e-b5432fcf6ad5",
   "metadata": {
    "tags": []
   },
   "outputs": [],
   "source": [
    "model_opts = dict(\n",
    "    model=\"resnet50KaggleFC\",\n",
    "    batch_size=12,\n",
    "    num_workers=0,\n",
    "    which_checkpoint=None,\n",
    "    limit_train_batches=2,\n",
    "    limit_val_batches=2,\n",
    "    limit_predict_batches=2,\n",
    "    nn_model_id=None,\n",
    "    overwrite=True,\n",
    "    skip_finished_jobs=True,\n",
    "    nn_loss=\"CrossEntropyLoss\",\n",
    "    lr_policy=\"constant\",\n",
    "    find_lr=False,\n",
    "    lr=0.001,\n",
    "    num_epochs=200,\n",
    "    deterministic=True,\n",
    "    compensation=\"memory\",\n",
    "    profiler=\"simple\",\n",
    "    gradient_clip_val=None,\n",
    "    weighted_sampler=True,\n",
    "    n_ep_decay=600,\n",
    "    augmentations=True,\n",
    "    seed=2,\n",
    "    resume=False,\n",
    ")\n",
    "# model_opts = ModelOptions(model_opts)\n",
    "# model_opts.__dict__"
   ]
  },
  {
   "cell_type": "code",
   "execution_count": 19,
   "id": "c6f9eb0c-9f12-4261-89bb-e5c1cc52884b",
   "metadata": {
    "tags": []
   },
   "outputs": [
    {
     "name": "stdout",
     "output_type": "stream",
     "text": [
      "/dss/dsshome1/02/di93zov/Projects/ehrapy_DR_latents/ehrapy_latents/project_folder/experiments/resnet50KaggleFC-version0\n",
      "/dss/dsshome1/02/di93zov/Projects/ehrapy_DR_latents/ehrapy_latents/project_folder/experiments/resnet50KaggleFC-version0 resnet50KaggleFC-version0\n"
     ]
    }
   ],
   "source": [
    "train_opts = ModelOptions(model_opts, resume=False)\n",
    "train_opts.prepare_commandline(train_opts.model)"
   ]
  },
  {
   "cell_type": "code",
   "execution_count": 20,
   "id": "2a47448c-b3b3-46d5-b675-d15b15c7f7ae",
   "metadata": {
    "tags": []
   },
   "outputs": [],
   "source": [
    "classifier = NNExtractor(train_opts)"
   ]
  },
  {
   "cell_type": "code",
   "execution_count": 7,
   "id": "a334a33a-6fe3-4e25-8755-e3ab69926917",
   "metadata": {
    "tags": []
   },
   "outputs": [],
   "source": [
    "classifier.init_model()"
   ]
  },
  {
   "cell_type": "code",
   "execution_count": 12,
   "id": "44fd68d8-d664-4839-b7a6-bf7634c88218",
   "metadata": {
    "tags": []
   },
   "outputs": [
    {
     "data": {
      "text/plain": [
       "torch.Size([1, 3, 224, 224])"
      ]
     },
     "execution_count": 12,
     "metadata": {},
     "output_type": "execute_result"
    }
   ],
   "source": [
    "input_tensor = torch.zeros((1, 3, 224, 224))\n",
    "input_tensor.shape"
   ]
  },
  {
   "cell_type": "code",
   "execution_count": 13,
   "id": "ec939089-f28f-480e-af64-5fc3899a339b",
   "metadata": {
    "tags": []
   },
   "outputs": [
    {
     "data": {
      "text/plain": [
       "torch.Size([1, 64])"
      ]
     },
     "execution_count": 13,
     "metadata": {},
     "output_type": "execute_result"
    }
   ],
   "source": [
    "# input_tensor = torch.zeros((0, 3,224,224))\n",
    "output = classifier.model.model.forward(input_tensor)\n",
    "output.shape"
   ]
  },
  {
   "cell_type": "code",
   "execution_count": 14,
   "id": "248557e2-60bc-4c1b-8f8d-bf55544f5dfa",
   "metadata": {
    "tags": []
   },
   "outputs": [
    {
     "data": {
      "text/plain": [
       "torch.Size([1, 5])"
      ]
     },
     "execution_count": 14,
     "metadata": {},
     "output_type": "execute_result"
    }
   ],
   "source": [
    "output = classifier.model.model.forward(input_tensor, return_class=True)\n",
    "output.shape"
   ]
  },
  {
   "cell_type": "code",
   "execution_count": 21,
   "id": "d4500c08-7dfb-44c6-a15b-9022a93e1003",
   "metadata": {
    "scrolled": true,
    "tags": []
   },
   "outputs": [
    {
     "name": "stderr",
     "output_type": "stream",
     "text": [
      "[rank: 0] Global seed set to 2\n",
      "GPU available: False, used: False\n",
      "TPU available: False, using: 0 TPU cores\n",
      "IPU available: False, using: 0 IPUs\n",
      "HPU available: False, using: 0 HPUs\n",
      "\n",
      "  | Name      | Type                       | Params\n",
      "---------------------------------------------------------\n",
      "0 | model     | ResNetFromKagglePretrained | 21.5 M\n",
      "1 | criterion | CrossEntropyLoss           | 0     \n",
      "---------------------------------------------------------\n",
      "21.5 M    Trainable params\n",
      "0         Non-trainable params\n",
      "21.5 M    Total params\n",
      "85.830    Total estimated model params size (MB)\n"
     ]
    },
    {
     "name": "stdout",
     "output_type": "stream",
     "text": [
      "Compose(\n",
      "    Resize(size=(256, 256), interpolation=bilinear, max_size=None, antialias=None)\n",
      "    CenterCrop(size=(224, 224))\n",
      "    RandomHorizontalFlip(p=0.5)\n",
      "    ToPILImage()\n",
      "    RandAugment(n=2, ops=\n",
      "\tAugmentOp(name=AutoContrast, p=0.5, m=9, mstd=0.5)\n",
      "\tAugmentOp(name=Equalize, p=0.5, m=9, mstd=0.5)\n",
      "\tAugmentOp(name=Invert, p=0.5, m=9, mstd=0.5)\n",
      "\tAugmentOp(name=Rotate, p=0.5, m=9, mstd=0.5)\n",
      "\tAugmentOp(name=Posterize, p=0.5, m=9, mstd=0.5)\n",
      "\tAugmentOp(name=Solarize, p=0.5, m=9, mstd=0.5)\n",
      "\tAugmentOp(name=SolarizeAdd, p=0.5, m=9, mstd=0.5)\n",
      "\tAugmentOp(name=Color, p=0.5, m=9, mstd=0.5)\n",
      "\tAugmentOp(name=Contrast, p=0.5, m=9, mstd=0.5)\n",
      "\tAugmentOp(name=Brightness, p=0.5, m=9, mstd=0.5)\n",
      "\tAugmentOp(name=Sharpness, p=0.5, m=9, mstd=0.5)\n",
      "\tAugmentOp(name=ShearX, p=0.5, m=9, mstd=0.5)\n",
      "\tAugmentOp(name=ShearY, p=0.5, m=9, mstd=0.5)\n",
      "\tAugmentOp(name=TranslateXRel, p=0.5, m=9, mstd=0.5)\n",
      "\tAugmentOp(name=TranslateYRel, p=0.5, m=9, mstd=0.5))\n",
      "    ToTensor()\n",
      "    Normalize(mean=[0.485, 0.456, 0.406], std=[0.229, 0.224, 0.225])\n",
      ") Compose(\n",
      "    Resize(size=(256, 256), interpolation=bilinear, max_size=None, antialias=None)\n",
      "    CenterCrop(size=(224, 224))\n",
      "    Normalize(mean=[0.485, 0.456, 0.406], std=[0.229, 0.224, 0.225])\n",
      ") False\n",
      "loaded labels from /dss/dsshome1/02/di93zov/Projects/ehrapy_DR_latents/ehrapy_latents/project_folder/data/data_split/train_df.csv, shape: (18386, 6)\n",
      "loaded labels from /dss/dsshome1/02/di93zov/Projects/ehrapy_DR_latents/ehrapy_latents/project_folder/data/data_split/val_df.csv, shape: (3066, 6)\n",
      "loaded labels from /dss/dsshome1/02/di93zov/Projects/ehrapy_DR_latents/ehrapy_latents/project_folder/data/data_split/train_df.csv, shape: (18386, 6)\n",
      "loaded labels from /dss/dsshome1/02/di93zov/Projects/ehrapy_DR_latents/ehrapy_latents/project_folder/data/data_split/val_df.csv, shape: (3066, 6)\n"
     ]
    },
    {
     "name": "stderr",
     "output_type": "stream",
     "text": [
      "SLURM auto-requeueing enabled. Setting signal handlers.\n"
     ]
    },
    {
     "data": {
      "application/vnd.jupyter.widget-view+json": {
       "model_id": "",
       "version_major": 2,
       "version_minor": 0
      },
      "text/plain": [
       "Sanity Checking: 0it [00:00, ?it/s]"
      ]
     },
     "metadata": {},
     "output_type": "display_data"
    },
    {
     "data": {
      "application/vnd.jupyter.widget-view+json": {
       "model_id": "c103b141d0ad435ba2ae360592c8bff9",
       "version_major": 2,
       "version_minor": 0
      },
      "text/plain": [
       "Training: 0it [00:00, ?it/s]"
      ]
     },
     "metadata": {},
     "output_type": "display_data"
    },
    {
     "data": {
      "application/vnd.jupyter.widget-view+json": {
       "model_id": "",
       "version_major": 2,
       "version_minor": 0
      },
      "text/plain": [
       "Validation: 0it [00:00, ?it/s]"
      ]
     },
     "metadata": {},
     "output_type": "display_data"
    },
    {
     "data": {
      "application/vnd.jupyter.widget-view+json": {
       "model_id": "",
       "version_major": 2,
       "version_minor": 0
      },
      "text/plain": [
       "Validation: 0it [00:00, ?it/s]"
      ]
     },
     "metadata": {},
     "output_type": "display_data"
    },
    {
     "data": {
      "application/vnd.jupyter.widget-view+json": {
       "model_id": "",
       "version_major": 2,
       "version_minor": 0
      },
      "text/plain": [
       "Validation: 0it [00:00, ?it/s]"
      ]
     },
     "metadata": {},
     "output_type": "display_data"
    },
    {
     "data": {
      "application/vnd.jupyter.widget-view+json": {
       "model_id": "",
       "version_major": 2,
       "version_minor": 0
      },
      "text/plain": [
       "Validation: 0it [00:00, ?it/s]"
      ]
     },
     "metadata": {},
     "output_type": "display_data"
    },
    {
     "data": {
      "application/vnd.jupyter.widget-view+json": {
       "model_id": "",
       "version_major": 2,
       "version_minor": 0
      },
      "text/plain": [
       "Validation: 0it [00:00, ?it/s]"
      ]
     },
     "metadata": {},
     "output_type": "display_data"
    },
    {
     "data": {
      "application/vnd.jupyter.widget-view+json": {
       "model_id": "",
       "version_major": 2,
       "version_minor": 0
      },
      "text/plain": [
       "Validation: 0it [00:00, ?it/s]"
      ]
     },
     "metadata": {},
     "output_type": "display_data"
    },
    {
     "data": {
      "application/vnd.jupyter.widget-view+json": {
       "model_id": "",
       "version_major": 2,
       "version_minor": 0
      },
      "text/plain": [
       "Validation: 0it [00:00, ?it/s]"
      ]
     },
     "metadata": {},
     "output_type": "display_data"
    },
    {
     "data": {
      "application/vnd.jupyter.widget-view+json": {
       "model_id": "",
       "version_major": 2,
       "version_minor": 0
      },
      "text/plain": [
       "Validation: 0it [00:00, ?it/s]"
      ]
     },
     "metadata": {},
     "output_type": "display_data"
    },
    {
     "data": {
      "application/vnd.jupyter.widget-view+json": {
       "model_id": "",
       "version_major": 2,
       "version_minor": 0
      },
      "text/plain": [
       "Validation: 0it [00:00, ?it/s]"
      ]
     },
     "metadata": {},
     "output_type": "display_data"
    },
    {
     "data": {
      "application/vnd.jupyter.widget-view+json": {
       "model_id": "",
       "version_major": 2,
       "version_minor": 0
      },
      "text/plain": [
       "Validation: 0it [00:00, ?it/s]"
      ]
     },
     "metadata": {},
     "output_type": "display_data"
    },
    {
     "data": {
      "application/vnd.jupyter.widget-view+json": {
       "model_id": "",
       "version_major": 2,
       "version_minor": 0
      },
      "text/plain": [
       "Validation: 0it [00:00, ?it/s]"
      ]
     },
     "metadata": {},
     "output_type": "display_data"
    },
    {
     "data": {
      "application/vnd.jupyter.widget-view+json": {
       "model_id": "",
       "version_major": 2,
       "version_minor": 0
      },
      "text/plain": [
       "Validation: 0it [00:00, ?it/s]"
      ]
     },
     "metadata": {},
     "output_type": "display_data"
    },
    {
     "data": {
      "application/vnd.jupyter.widget-view+json": {
       "model_id": "c22242ac8cdc41a5bca661757b4038ff",
       "version_major": 2,
       "version_minor": 0
      },
      "text/plain": [
       "Validation: 0it [00:00, ?it/s]"
      ]
     },
     "metadata": {},
     "output_type": "display_data"
    }
   ],
   "source": [
    "classifier.train()"
   ]
  },
  {
   "cell_type": "code",
   "execution_count": 16,
   "id": "17d8dda9-fa04-4d89-b3c7-272f14d38820",
   "metadata": {
    "tags": []
   },
   "outputs": [
    {
     "name": "stdout",
     "output_type": "stream",
     "text": [
      "The tensorboard extension is already loaded. To reload it, use:\n",
      "  %reload_ext tensorboard\n"
     ]
    }
   ],
   "source": [
    "%load_ext tensorboard"
   ]
  },
  {
   "cell_type": "code",
   "execution_count": 17,
   "id": "94d30216-12dd-4d29-88bc-233acfea0f94",
   "metadata": {
    "tags": []
   },
   "outputs": [
    {
     "name": "stdout",
     "output_type": "stream",
     "text": [
      "/dss/dsshome1/02/di93zov/Projects/ehrapy_DR_latents/ehrapy_latents/notebooks/latents_extraction\n"
     ]
    }
   ],
   "source": [
    "!pwd"
   ]
  },
  {
   "cell_type": "code",
   "execution_count": 18,
   "id": "92923d66-3df6-4e57-a62e-ca8d01054ea1",
   "metadata": {
    "tags": []
   },
   "outputs": [
    {
     "data": {
      "text/html": [
       "\n",
       "      <iframe id=\"tensorboard-frame-ad29b40aded8acf5\" width=\"100%\" height=\"800\" frameborder=\"0\">\n",
       "      </iframe>\n",
       "      <script>\n",
       "        (function() {\n",
       "          const frame = document.getElementById(\"tensorboard-frame-ad29b40aded8acf5\");\n",
       "          const url = new URL(\"/\", window.location);\n",
       "          const port = 6006;\n",
       "          if (port) {\n",
       "            url.port = port;\n",
       "          }\n",
       "          frame.src = url;\n",
       "        })();\n",
       "      </script>\n",
       "    "
      ],
      "text/plain": [
       "<IPython.core.display.HTML object>"
      ]
     },
     "metadata": {},
     "output_type": "display_data"
    }
   ],
   "source": [
    "%tensorboard --logdir /dss/dsshome1/02/di93zov/Projects/ehrapy_DR_latents/ehrapy_latents/project_folder/experiments"
   ]
  },
  {
   "cell_type": "code",
   "execution_count": 6,
   "id": "07ab30cd-d81b-4840-b29f-909beb4b932d",
   "metadata": {
    "scrolled": true,
    "tags": []
   },
   "outputs": [
    {
     "name": "stdout",
     "output_type": "stream",
     "text": [
      "resnet18ImgNetFC\n",
      "torch.Size([1, 64])\n",
      "torch.Size([1, 5])\n",
      "______________________\n"
     ]
    }
   ],
   "source": [
    "input_t = torch.zeros((1, 3, 256, 256))\n",
    "for model in list(Models.__members__.keys())[8:9]:\n",
    "    print(model)\n",
    "    model_opts.model = model\n",
    "    extractor = NNExtractor(NNModel.SpatialSSL, model_opts)\n",
    "    extractor.load_model()\n",
    "    out_t = extractor.model(input_t)\n",
    "    print(out_t.shape)\n",
    "    out_t = extractor.model.model(input_t, return_class=True)\n",
    "    print(out_t.shape)\n",
    "    print(\"______________________\")"
   ]
  },
  {
   "cell_type": "code",
   "execution_count": 7,
   "id": "996beabc-9ad3-4eb8-8b14-5f2d1499a5cc",
   "metadata": {
    "tags": []
   },
   "outputs": [
    {
     "data": {
      "text/plain": [
       "====================================================================================================\n",
       "Layer (type:depth-idx)                             Output Shape              Param #\n",
       "====================================================================================================\n",
       "ResNetFCWrapper                                    [1, 64]                   --\n",
       "├─ResNetAdapted: 1-1                               [1, 64]                   --\n",
       "│    └─ResNet: 2-1                                 [1, 512]                  --\n",
       "│    │    └─Conv2d: 3-1                            [1, 64, 128, 128]         9,408\n",
       "│    │    └─BatchNorm2d: 3-2                       [1, 64, 128, 128]         128\n",
       "│    │    └─ReLU: 3-3                              [1, 64, 128, 128]         --\n",
       "│    │    └─MaxPool2d: 3-4                         [1, 64, 64, 64]           --\n",
       "│    │    └─Sequential: 3-5                        [1, 64, 64, 64]           147,968\n",
       "│    │    └─Sequential: 3-6                        [1, 128, 32, 32]          525,568\n",
       "│    │    └─Sequential: 3-7                        [1, 256, 16, 16]          2,099,712\n",
       "│    │    └─Sequential: 3-8                        [1, 512, 8, 8]            8,393,728\n",
       "│    │    └─AdaptiveAvgPool2d: 3-9                 [1, 512, 1, 1]            --\n",
       "│    │    └─Identity: 3-10                         [1, 512]                  --\n",
       "│    └─fc_block: 2-2                               [1, 64]                   325\n",
       "│    │    └─Sequential: 3-11                       [1, 64]                   172,480\n",
       "====================================================================================================\n",
       "Total params: 11,349,317\n",
       "Trainable params: 11,349,317\n",
       "Non-trainable params: 0\n",
       "Total mult-adds (G): 2.37\n",
       "====================================================================================================\n",
       "Input size (MB): 0.79\n",
       "Forward/backward pass size (MB): 51.91\n",
       "Params size (MB): 45.40\n",
       "Estimated Total Size (MB): 98.09\n",
       "===================================================================================================="
      ]
     },
     "execution_count": 7,
     "metadata": {},
     "output_type": "execute_result"
    }
   ],
   "source": [
    "summary(model, input_size=(1, 3, 256, 256))"
   ]
  },
  {
   "cell_type": "code",
   "execution_count": 8,
   "id": "88891204-16db-4df7-91a3-a620ba244223",
   "metadata": {
    "tags": []
   },
   "outputs": [
    {
     "data": {
      "text/plain": [
       "====================================================================================================\n",
       "Layer (type:depth-idx)                             Output Shape              Param #\n",
       "====================================================================================================\n",
       "ResNetFCWrapper                                    [1, 5]                    --\n",
       "├─ResNetAdapted: 1-1                               [1, 5]                    --\n",
       "│    └─ResNet: 2-1                                 [1, 512]                  --\n",
       "│    │    └─Conv2d: 3-1                            [1, 64, 128, 128]         9,408\n",
       "│    │    └─BatchNorm2d: 3-2                       [1, 64, 128, 128]         128\n",
       "│    │    └─ReLU: 3-3                              [1, 64, 128, 128]         --\n",
       "│    │    └─MaxPool2d: 3-4                         [1, 64, 64, 64]           --\n",
       "│    │    └─Sequential: 3-5                        [1, 64, 64, 64]           147,968\n",
       "│    │    └─Sequential: 3-6                        [1, 128, 32, 32]          525,568\n",
       "│    │    └─Sequential: 3-7                        [1, 256, 16, 16]          2,099,712\n",
       "│    │    └─Sequential: 3-8                        [1, 512, 8, 8]            8,393,728\n",
       "│    │    └─AdaptiveAvgPool2d: 3-9                 [1, 512, 1, 1]            --\n",
       "│    │    └─Identity: 3-10                         [1, 512]                  --\n",
       "│    └─fc_block: 2-2                               [1, 5]                    --\n",
       "│    │    └─Sequential: 3-11                       [1, 64]                   172,480\n",
       "│    │    └─Linear: 3-12                           [1, 5]                    325\n",
       "====================================================================================================\n",
       "Total params: 11,349,317\n",
       "Trainable params: 11,349,317\n",
       "Non-trainable params: 0\n",
       "Total mult-adds (G): 2.37\n",
       "====================================================================================================\n",
       "Input size (MB): 0.79\n",
       "Forward/backward pass size (MB): 51.91\n",
       "Params size (MB): 45.40\n",
       "Estimated Total Size (MB): 98.09\n",
       "===================================================================================================="
      ]
     },
     "execution_count": 8,
     "metadata": {},
     "output_type": "execute_result"
    }
   ],
   "source": [
    "summary(model, input_size=(1, 3, 256, 256), return_class=True)"
   ]
  },
  {
   "cell_type": "code",
   "execution_count": 20,
   "id": "57f4c69c-53b1-408c-8ee7-a0b7add0ba48",
   "metadata": {
    "tags": []
   },
   "outputs": [],
   "source": [
    "input_t = torch.zeros((1, 3, 256, 256))"
   ]
  },
  {
   "cell_type": "code",
   "execution_count": 21,
   "id": "1924b36c-6ef1-4a09-ad74-5e49a54bba8a",
   "metadata": {
    "tags": []
   },
   "outputs": [
    {
     "data": {
      "text/plain": [
       "torch.Size([1, 64])"
      ]
     },
     "execution_count": 21,
     "metadata": {},
     "output_type": "execute_result"
    }
   ],
   "source": [
    "out_t = extractor.model(input_t)\n",
    "out_t.shape"
   ]
  },
  {
   "cell_type": "code",
   "execution_count": 24,
   "id": "d535c901-ebe1-4078-9917-de030c5f7c1e",
   "metadata": {
    "tags": []
   },
   "outputs": [
    {
     "data": {
      "text/plain": [
       "torch.Size([1, 5])"
      ]
     },
     "execution_count": 24,
     "metadata": {},
     "output_type": "execute_result"
    }
   ],
   "source": [
    "out_t = extractor.model.model(input_t, return_class=True)\n",
    "out_t.shape"
   ]
  },
  {
   "cell_type": "code",
   "execution_count": 19,
   "id": "72d79b4d-6785-458c-b9f0-2d0dba0109f6",
   "metadata": {},
   "outputs": [],
   "source": [
    "from timm.data import create_transform, auto_augment"
   ]
  },
  {
   "cell_type": "code",
   "execution_count": 24,
   "id": "21d98434-8506-4734-bb1c-5dabae5cfd99",
   "metadata": {
    "tags": []
   },
   "outputs": [
    {
     "data": {
      "text/plain": [
       "Compose(\n",
       "    RandomResizedCropAndInterpolation(size=(224, 224), scale=(0.08, 1.0), ratio=(0.75, 1.3333), interpolation=bilinear)\n",
       "    RandomHorizontalFlip(p=0.5)\n",
       "    RandAugment(n=2, ops=\n",
       "\tAugmentOp(name=AutoContrast, p=0.5, m=9, mstd=0.5)\n",
       "\tAugmentOp(name=Equalize, p=0.5, m=9, mstd=0.5)\n",
       "\tAugmentOp(name=Invert, p=0.5, m=9, mstd=0.5)\n",
       "\tAugmentOp(name=Rotate, p=0.5, m=9, mstd=0.5)\n",
       "\tAugmentOp(name=Posterize, p=0.5, m=9, mstd=0.5)\n",
       "\tAugmentOp(name=Solarize, p=0.5, m=9, mstd=0.5)\n",
       "\tAugmentOp(name=SolarizeAdd, p=0.5, m=9, mstd=0.5)\n",
       "\tAugmentOp(name=Color, p=0.5, m=9, mstd=0.5)\n",
       "\tAugmentOp(name=Contrast, p=0.5, m=9, mstd=0.5)\n",
       "\tAugmentOp(name=Brightness, p=0.5, m=9, mstd=0.5)\n",
       "\tAugmentOp(name=Sharpness, p=0.5, m=9, mstd=0.5)\n",
       "\tAugmentOp(name=ShearX, p=0.5, m=9, mstd=0.5)\n",
       "\tAugmentOp(name=ShearY, p=0.5, m=9, mstd=0.5)\n",
       "\tAugmentOp(name=TranslateXRel, p=0.5, m=9, mstd=0.5)\n",
       "\tAugmentOp(name=TranslateYRel, p=0.5, m=9, mstd=0.5))\n",
       "    ToTensor()\n",
       "    Normalize(mean=tensor([0.4850, 0.4560, 0.4060]), std=tensor([0.2290, 0.2240, 0.2250]))\n",
       ")"
      ]
     },
     "execution_count": 24,
     "metadata": {},
     "output_type": "execute_result"
    }
   ],
   "source": [
    "train_transform = create_transform(\n",
    "    224, is_training=True, auto_augment=\"rand-m9-mstd0.5\"\n",
    ")\n",
    "train_transform"
   ]
  },
  {
   "cell_type": "code",
   "execution_count": 22,
   "id": "2def10b5-5879-4f8c-bd79-f6e140b2897d",
   "metadata": {
    "tags": []
   },
   "outputs": [],
   "source": [
    "train_transform = auto_augment.rand_augment_transform(\n",
    "    config_str=\"rand-m9-mstd0.5\", hparams={}\n",
    ")"
   ]
  },
  {
   "cell_type": "code",
   "execution_count": 23,
   "id": "ca36470b-e849-4a7d-9125-3d5b5547c7fe",
   "metadata": {
    "tags": []
   },
   "outputs": [
    {
     "data": {
      "text/plain": [
       "RandAugment(n=2, ops=\n",
       "\tAugmentOp(name=AutoContrast, p=0.5, m=9, mstd=0.5)\n",
       "\tAugmentOp(name=Equalize, p=0.5, m=9, mstd=0.5)\n",
       "\tAugmentOp(name=Invert, p=0.5, m=9, mstd=0.5)\n",
       "\tAugmentOp(name=Rotate, p=0.5, m=9, mstd=0.5)\n",
       "\tAugmentOp(name=Posterize, p=0.5, m=9, mstd=0.5)\n",
       "\tAugmentOp(name=Solarize, p=0.5, m=9, mstd=0.5)\n",
       "\tAugmentOp(name=SolarizeAdd, p=0.5, m=9, mstd=0.5)\n",
       "\tAugmentOp(name=Color, p=0.5, m=9, mstd=0.5)\n",
       "\tAugmentOp(name=Contrast, p=0.5, m=9, mstd=0.5)\n",
       "\tAugmentOp(name=Brightness, p=0.5, m=9, mstd=0.5)\n",
       "\tAugmentOp(name=Sharpness, p=0.5, m=9, mstd=0.5)\n",
       "\tAugmentOp(name=ShearX, p=0.5, m=9, mstd=0.5)\n",
       "\tAugmentOp(name=ShearY, p=0.5, m=9, mstd=0.5)\n",
       "\tAugmentOp(name=TranslateXRel, p=0.5, m=9, mstd=0.5)\n",
       "\tAugmentOp(name=TranslateYRel, p=0.5, m=9, mstd=0.5))"
      ]
     },
     "execution_count": 23,
     "metadata": {},
     "output_type": "execute_result"
    }
   ],
   "source": [
    "train_transform"
   ]
  },
  {
   "cell_type": "code",
   "execution_count": 18,
   "id": "2ece6121-fc13-49f0-810c-43085f44871d",
   "metadata": {
    "tags": []
   },
   "outputs": [
    {
     "ename": "TypeError",
     "evalue": "list indices must be integers or slices, not str",
     "output_type": "error",
     "traceback": [
      "\u001b[0;31m---------------------------------------------------------------------------\u001b[0m",
      "\u001b[0;31mTypeError\u001b[0m                                 Traceback (most recent call last)",
      "Cell \u001b[0;32mIn[18], line 1\u001b[0m\n\u001b[0;32m----> 1\u001b[0m \u001b[43mtrain_transform\u001b[49m\u001b[38;5;241;43m.\u001b[39;49m\u001b[43mtransforms\u001b[49m\u001b[43m[\u001b[49m\u001b[38;5;124;43m\"\u001b[39;49m\u001b[38;5;124;43mRandAugment\u001b[39;49m\u001b[38;5;124;43m\"\u001b[39;49m\u001b[43m]\u001b[49m\n",
      "\u001b[0;31mTypeError\u001b[0m: list indices must be integers or slices, not str"
     ]
    }
   ],
   "source": [
    "train_transform.transforms[\"RandAugment\"]"
   ]
  },
  {
   "cell_type": "code",
   "execution_count": null,
   "id": "cd6ad001-8f86-4d67-8082-1838cf5752c8",
   "metadata": {},
   "outputs": [],
   "source": []
  }
 ],
 "metadata": {
  "kernelspec": {
   "display_name": "Python 3 (ipykernel)",
   "language": "python",
   "name": "python3"
  },
  "language_info": {
   "codemirror_mode": {
    "name": "ipython",
    "version": 3
   },
   "file_extension": ".py",
   "mimetype": "text/x-python",
   "name": "python",
   "nbconvert_exporter": "python",
   "pygments_lexer": "ipython3",
   "version": "3.9.16"
  }
 },
 "nbformat": 4,
 "nbformat_minor": 5
}
