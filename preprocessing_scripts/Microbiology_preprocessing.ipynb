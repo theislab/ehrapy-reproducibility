{
 "cells": [
  {
   "cell_type": "code",
   "execution_count": 1,
   "id": "f66174e2-cc26-43a4-9a80-005d21e0ae12",
   "metadata": {},
   "outputs": [],
   "source": [
    "import pandas as pd\n",
    "import numpy as np"
   ]
  },
  {
   "cell_type": "code",
   "execution_count": 2,
   "id": "2e278640-84cf-433c-9bf6-a95351d77e38",
   "metadata": {},
   "outputs": [],
   "source": [
    "mibi_df = pd.read_csv(\"../V1.1.0/MICROBIOLOGYEVENTS.csv\")\n",
    "d_items_df = pd.read_csv(\"../V1.1.0/D_ITEMS.csv\")"
   ]
  },
  {
   "cell_type": "code",
   "execution_count": 3,
   "id": "79f3886a-312d-4291-aadb-ddd9ae4109cc",
   "metadata": {},
   "outputs": [],
   "source": [
    "# 11681 out of 13449 HADMs have at least one mibi event (defined as at least one org id)\n",
    "mibi_df.drop([\"ROW_ID\", \"ORG_NAME\", \"AB_NAME\", \"DILUTION_TEXT\", \"DILUTION_COMPARISON\", \"DILUTION_VALUE\", \"SPEC_TYPE_DESC\", \"SUBJECT_ID\"], axis=1, inplace=True)"
   ]
  },
  {
   "cell_type": "code",
   "execution_count": 4,
   "id": "c182b667-c832-4e52-a6a4-29f13846813b",
   "metadata": {},
   "outputs": [],
   "source": [
    "item_id_to_item_name = {item_id: item_name for item_id, item_name in zip(d_items_df[\"ITEMID\"], d_items_df[\"LABEL\"])}\n",
    "mibi_df[\"ORG_NAME\"] = mibi_df['ORG_ITEMID'].map(item_id_to_item_name)\n",
    "mibi_df[\"AB_NAME\"] = mibi_df['AB_ITEMID'].map(item_id_to_item_name)"
   ]
  },
  {
   "cell_type": "code",
   "execution_count": 5,
   "id": "a9877adc-d8aa-457d-9840-98ab07f0ec39",
   "metadata": {},
   "outputs": [],
   "source": [
    "# some hadm (although listed) do not provide any info on organisms --> delete\n",
    "mibi_df = mibi_df[mibi_df.ORG_ITEMID.notnull()]"
   ]
  },
  {
   "cell_type": "code",
   "execution_count": 6,
   "id": "9a545468-eb04-415d-9f7e-a3f4dd33b719",
   "metadata": {},
   "outputs": [],
   "source": [
    "mibi_df['CHARTTIME'] = mibi_df['CHARTTIME'].str.split(' ').str.get(0)"
   ]
  },
  {
   "cell_type": "markdown",
   "id": "8ec82249-cdb7-4453-b634-4abb75cd5f7f",
   "metadata": {},
   "source": [
    "Get an overview regarding the specimens and different pathogens found."
   ]
  },
  {
   "cell_type": "code",
   "execution_count": 9,
   "id": "2dc572fd-a0d8-4f88-8b20-c198ce5f6cc4",
   "metadata": {},
   "outputs": [],
   "source": [
    "count_grp = mibi_df.groupby(\"ORG_NAME\")[\"HADM_ID\"].agg(\"count\").sort_values(ascending=False)"
   ]
  },
  {
   "cell_type": "code",
   "execution_count": 10,
   "id": "9d06d084-a371-47b5-b5c5-539f4048bf7f",
   "metadata": {},
   "outputs": [],
   "source": [
    "neg_probes = ['No ','no ','Normal', 'without'] # checked before to not remove some important organisms\n",
    "\n",
    "pattern = '|'.join(neg_probes)\n",
    "\n",
    "neg_removed = count_grp.loc[~count_grp.index.str.contains(pattern, case=False)]"
   ]
  },
  {
   "cell_type": "code",
   "execution_count": 11,
   "id": "834a51ac-9730-4e64-a5df-7d31c60fc658",
   "metadata": {},
   "outputs": [],
   "source": [
    "# include top 40 organisms (others were found in less than 200 hadms)\n",
    "top_org_names = neg_removed.head(n=40).index.to_list()"
   ]
  },
  {
   "cell_type": "code",
   "execution_count": 12,
   "id": "f8a4d75c-aa6d-4570-bf34-77e46237c82d",
   "metadata": {},
   "outputs": [
    {
     "data": {
      "text/plain": [
       "ORG_NAME\n",
       "Klebsiella pneumoniae                                       22366\n",
       "Acinetobacter baumannii complex                             16386\n",
       "Cultured for 5 days without bacteria, fungus growth         15282\n",
       "Escherichia coli                                            12005\n",
       "No fungus cultured                                          11421\n",
       "Pseudomonas aeruginosa                                       9876\n",
       "No pathogenic haemophilus cultured?                          8433\n",
       "Normal flora growth (H. haemophilus, fungi not detected)     7895\n",
       "Staphylococcus epidermidis                                   7817\n",
       "Staphylococcus aureus                                        6237\n",
       "No bacterial growth                                          5961\n",
       "Streptococcus pneumoniae                                     3997\n",
       "No bacteria, fungus growth                                   3664\n",
       "Enterococcus faecium group D                                 3446\n",
       "Stenotrophomonas maltophilia (Xanthomonas)                   3204\n",
       "Staphylococcus hominis                                       2623\n",
       "Ureaplasma urealyticum                                       2177\n",
       "Escherichia cloacae                                          1925\n",
       "No urea and human mycoplasma growth                          1883\n",
       "Enterobacter aerogenes                                       1745\n",
       "Name: HADM_ID, dtype: int64"
      ]
     },
     "execution_count": 12,
     "metadata": {},
     "output_type": "execute_result"
    }
   ],
   "source": [
    "count_grp.head(n=20)"
   ]
  },
  {
   "cell_type": "code",
   "execution_count": 13,
   "id": "3337d00f-de1a-4c57-9640-30ef7266de37",
   "metadata": {},
   "outputs": [],
   "source": [
    "mibi_df = mibi_df[mibi_df[\"ORG_NAME\"].isin(top_org_names)]"
   ]
  },
  {
   "cell_type": "code",
   "execution_count": 14,
   "id": "4edd98fc-7904-400a-9f8d-17bb5b86af88",
   "metadata": {},
   "outputs": [
    {
     "data": {
      "text/html": [
       "<div>\n",
       "<style scoped>\n",
       "    .dataframe tbody tr th:only-of-type {\n",
       "        vertical-align: middle;\n",
       "    }\n",
       "\n",
       "    .dataframe tbody tr th {\n",
       "        vertical-align: top;\n",
       "    }\n",
       "\n",
       "    .dataframe thead th {\n",
       "        text-align: right;\n",
       "    }\n",
       "</style>\n",
       "<table border=\"1\" class=\"dataframe\">\n",
       "  <thead>\n",
       "    <tr style=\"text-align: right;\">\n",
       "      <th></th>\n",
       "      <th>HADM_ID</th>\n",
       "      <th>CHARTTIME</th>\n",
       "      <th>SPEC_ITEMID</th>\n",
       "      <th>ORG_ITEMID</th>\n",
       "      <th>AB_ITEMID</th>\n",
       "      <th>INTERPRETATION</th>\n",
       "      <th>ORG_NAME</th>\n",
       "      <th>AB_NAME</th>\n",
       "    </tr>\n",
       "  </thead>\n",
       "  <tbody>\n",
       "    <tr>\n",
       "      <th>0</th>\n",
       "      <td>104977</td>\n",
       "      <td>2066-10-09</td>\n",
       "      <td>LIS031294+LIS0204+LIS0320</td>\n",
       "      <td>MIC310</td>\n",
       "      <td>MIC473</td>\n",
       "      <td>R</td>\n",
       "      <td>Staphylococcus hominis</td>\n",
       "      <td>Moxifloxacin</td>\n",
       "    </tr>\n",
       "    <tr>\n",
       "      <th>1</th>\n",
       "      <td>104977</td>\n",
       "      <td>2066-10-09</td>\n",
       "      <td>LIS031294+LIS0204+LIS0320</td>\n",
       "      <td>MIC310</td>\n",
       "      <td>MIC470</td>\n",
       "      <td>R</td>\n",
       "      <td>Staphylococcus hominis</td>\n",
       "      <td>CLINDAMYCIN</td>\n",
       "    </tr>\n",
       "    <tr>\n",
       "      <th>2</th>\n",
       "      <td>104977</td>\n",
       "      <td>2066-10-09</td>\n",
       "      <td>LIS031294+LIS0204+LIS0320</td>\n",
       "      <td>MIC310</td>\n",
       "      <td>MIC1015</td>\n",
       "      <td>S</td>\n",
       "      <td>Staphylococcus hominis</td>\n",
       "      <td>Quinupristin/dalofopine</td>\n",
       "    </tr>\n",
       "    <tr>\n",
       "      <th>3</th>\n",
       "      <td>104977</td>\n",
       "      <td>2066-10-09</td>\n",
       "      <td>LIS031294+LIS0204+LIS0320</td>\n",
       "      <td>MIC310</td>\n",
       "      <td>MIC1215</td>\n",
       "      <td>S</td>\n",
       "      <td>Staphylococcus hominis</td>\n",
       "      <td>Tigecycline</td>\n",
       "    </tr>\n",
       "    <tr>\n",
       "      <th>4</th>\n",
       "      <td>104977</td>\n",
       "      <td>2066-10-09</td>\n",
       "      <td>LIS031294+LIS0204+LIS0320</td>\n",
       "      <td>MIC1703</td>\n",
       "      <td></td>\n",
       "      <td></td>\n",
       "      <td>Gram positive cocci (G+C)</td>\n",
       "      <td>NaN</td>\n",
       "    </tr>\n",
       "    <tr>\n",
       "      <th>...</th>\n",
       "      <td>...</td>\n",
       "      <td>...</td>\n",
       "      <td>...</td>\n",
       "      <td>...</td>\n",
       "      <td>...</td>\n",
       "      <td>...</td>\n",
       "      <td>...</td>\n",
       "      <td>...</td>\n",
       "    </tr>\n",
       "    <tr>\n",
       "      <th>183859</th>\n",
       "      <td>102751</td>\n",
       "      <td>2075-11-17</td>\n",
       "      <td>LIS031294+LIS0204+LIS035456+LIS0202</td>\n",
       "      <td>MIC108</td>\n",
       "      <td>MIC483</td>\n",
       "      <td>I</td>\n",
       "      <td>Escherichia coli</td>\n",
       "      <td>Amoxicillin/clavulanic acid</td>\n",
       "    </tr>\n",
       "    <tr>\n",
       "      <th>183860</th>\n",
       "      <td>102751</td>\n",
       "      <td>2075-11-17</td>\n",
       "      <td>LIS031294+LIS0204+LIS035456+LIS0202</td>\n",
       "      <td>MIC108</td>\n",
       "      <td>MIC480</td>\n",
       "      <td>R</td>\n",
       "      <td>Escherichia coli</td>\n",
       "      <td>CIPROFLOXACIN</td>\n",
       "    </tr>\n",
       "    <tr>\n",
       "      <th>183861</th>\n",
       "      <td>102751</td>\n",
       "      <td>2075-11-17</td>\n",
       "      <td>LIS031294+LIS0204+LIS035456+LIS0202</td>\n",
       "      <td>MIC108</td>\n",
       "      <td>MIC466</td>\n",
       "      <td>R</td>\n",
       "      <td>Escherichia coli</td>\n",
       "      <td>AMPICILLIN</td>\n",
       "    </tr>\n",
       "    <tr>\n",
       "      <th>183862</th>\n",
       "      <td>102751</td>\n",
       "      <td>2075-11-17</td>\n",
       "      <td>LIS031294+LIS0204+LIS035456+LIS0202</td>\n",
       "      <td>MIC108</td>\n",
       "      <td>MIC1215</td>\n",
       "      <td>S</td>\n",
       "      <td>Escherichia coli</td>\n",
       "      <td>Tigecycline</td>\n",
       "    </tr>\n",
       "    <tr>\n",
       "      <th>183863</th>\n",
       "      <td>102751</td>\n",
       "      <td>2075-11-17</td>\n",
       "      <td>LIS031294+LIS0204+LIS035456+LIS0202</td>\n",
       "      <td>MIC108</td>\n",
       "      <td>MIC1020</td>\n",
       "      <td>S</td>\n",
       "      <td>Escherichia coli</td>\n",
       "      <td>Erbepenem</td>\n",
       "    </tr>\n",
       "  </tbody>\n",
       "</table>\n",
       "<p>113161 rows × 8 columns</p>\n",
       "</div>"
      ],
      "text/plain": [
       "        HADM_ID   CHARTTIME                          SPEC_ITEMID ORG_ITEMID  \\\n",
       "0        104977  2066-10-09            LIS031294+LIS0204+LIS0320     MIC310   \n",
       "1        104977  2066-10-09            LIS031294+LIS0204+LIS0320     MIC310   \n",
       "2        104977  2066-10-09            LIS031294+LIS0204+LIS0320     MIC310   \n",
       "3        104977  2066-10-09            LIS031294+LIS0204+LIS0320     MIC310   \n",
       "4        104977  2066-10-09            LIS031294+LIS0204+LIS0320    MIC1703   \n",
       "...         ...         ...                                  ...        ...   \n",
       "183859   102751  2075-11-17  LIS031294+LIS0204+LIS035456+LIS0202     MIC108   \n",
       "183860   102751  2075-11-17  LIS031294+LIS0204+LIS035456+LIS0202     MIC108   \n",
       "183861   102751  2075-11-17  LIS031294+LIS0204+LIS035456+LIS0202     MIC108   \n",
       "183862   102751  2075-11-17  LIS031294+LIS0204+LIS035456+LIS0202     MIC108   \n",
       "183863   102751  2075-11-17  LIS031294+LIS0204+LIS035456+LIS0202     MIC108   \n",
       "\n",
       "       AB_ITEMID INTERPRETATION                   ORG_NAME  \\\n",
       "0         MIC473              R     Staphylococcus hominis   \n",
       "1         MIC470              R     Staphylococcus hominis   \n",
       "2        MIC1015              S     Staphylococcus hominis   \n",
       "3        MIC1215              S     Staphylococcus hominis   \n",
       "4                                Gram positive cocci (G+C)   \n",
       "...          ...            ...                        ...   \n",
       "183859    MIC483              I           Escherichia coli   \n",
       "183860    MIC480              R           Escherichia coli   \n",
       "183861    MIC466              R           Escherichia coli   \n",
       "183862   MIC1215              S           Escherichia coli   \n",
       "183863   MIC1020              S           Escherichia coli   \n",
       "\n",
       "                            AB_NAME  \n",
       "0                      Moxifloxacin  \n",
       "1                       CLINDAMYCIN  \n",
       "2           Quinupristin/dalofopine  \n",
       "3                       Tigecycline  \n",
       "4                               NaN  \n",
       "...                             ...  \n",
       "183859  Amoxicillin/clavulanic acid  \n",
       "183860                CIPROFLOXACIN  \n",
       "183861                   AMPICILLIN  \n",
       "183862                  Tigecycline  \n",
       "183863                    Erbepenem  \n",
       "\n",
       "[113161 rows x 8 columns]"
      ]
     },
     "execution_count": 14,
     "metadata": {},
     "output_type": "execute_result"
    }
   ],
   "source": [
    "# note: ab_names denote names of tests performed (Is organism XY S/R/I for/against a specific antibioticum?), not the treatment itsself\n",
    "mibi_df"
   ]
  },
  {
   "cell_type": "markdown",
   "id": "40fc7c12-ec96-4dcf-9d15-4ca76b07e1af",
   "metadata": {},
   "source": [
    "Add a flag column whether a HADM was tested positive for a specific organism or not"
   ]
  },
  {
   "cell_type": "code",
   "execution_count": 8,
   "id": "610cf1d8-4fcc-42c6-b9c2-f431a35cb639",
   "metadata": {},
   "outputs": [],
   "source": [
    "unique_species = mibi_df.groupby([\"HADM_ID\", \"ORG_NAME\"])[\"CHARTTIME\"].unique()"
   ]
  },
  {
   "cell_type": "code",
   "execution_count": 9,
   "id": "a3bce248-3828-4ee7-9b93-2ca4464b1379",
   "metadata": {},
   "outputs": [
    {
     "data": {
      "text/plain": [
       "HADM_ID  ORG_NAME                                                \n",
       "100559   Burkholderia cepacia (onion pseudomonas)                                [2065-07-27, 2065-08-03]\n",
       "         Culture without pathogenic bacteria, fungus growth                                  [2065-08-25]\n",
       "         No bacteria, fungus growth                                                          [2065-08-21]\n",
       "         Normal flora growth (H. haemophilus, fungi not detected)                            [2065-08-12]\n",
       "         Pseudomonas aeruginosa                                      [2065-08-24, 2065-08-26, 2065-08-30]\n",
       "                                                                                     ...                 \n",
       "114199   Normal flora growth (H. haemophilus, fungi not detected)                            [2100-02-22]\n",
       "114200   No bacterial growth                                                                 [2090-02-21]\n",
       "         No fungus cultured                                                                  [2090-02-21]\n",
       "         Normal flora growth (H. haemophilus, fungi not detected)                            [2090-02-20]\n",
       "114202   Normal flora growth (H. haemophilus, fungi not detected)                            [2115-12-10]\n",
       "Name: CHARTTIME, Length: 46521, dtype: object"
      ]
     },
     "execution_count": 9,
     "metadata": {},
     "output_type": "execute_result"
    }
   ],
   "source": [
    "unique_species"
   ]
  },
  {
   "cell_type": "code",
   "execution_count": 10,
   "id": "7e7d47df-7c9a-442f-a21f-95d7c4d97fff",
   "metadata": {},
   "outputs": [],
   "source": [
    "grp_=mibi_df.groupby([\"ORG_NAME\", \"HADM_ID\"]).agg({\"ORG_NAME\":\"unique\", \"CHARTTIME\":\"unique\"})\n",
    "grp_[\"CHARTTIME\"] = grp_[\"CHARTTIME\"].str[0]\n",
    "grp_.drop([\"ORG_NAME\"], axis=1, inplace=True)"
   ]
  },
  {
   "cell_type": "code",
   "execution_count": 11,
   "id": "2a74f5d4-111a-4d50-9279-b0b756696506",
   "metadata": {},
   "outputs": [
    {
     "data": {
      "text/html": [
       "<div>\n",
       "<style scoped>\n",
       "    .dataframe tbody tr th:only-of-type {\n",
       "        vertical-align: middle;\n",
       "    }\n",
       "\n",
       "    .dataframe tbody tr th {\n",
       "        vertical-align: top;\n",
       "    }\n",
       "\n",
       "    .dataframe thead th {\n",
       "        text-align: right;\n",
       "    }\n",
       "</style>\n",
       "<table border=\"1\" class=\"dataframe\">\n",
       "  <thead>\n",
       "    <tr style=\"text-align: right;\">\n",
       "      <th></th>\n",
       "      <th></th>\n",
       "      <th>CHARTTIME</th>\n",
       "    </tr>\n",
       "    <tr>\n",
       "      <th>ORG_NAME</th>\n",
       "      <th>HADM_ID</th>\n",
       "      <th></th>\n",
       "    </tr>\n",
       "  </thead>\n",
       "  <tbody>\n",
       "    <tr>\n",
       "      <th>Enterococcus hirae</th>\n",
       "      <th>107304</th>\n",
       "      <td>2098-08-10</td>\n",
       "    </tr>\n",
       "    <tr>\n",
       "      <th rowspan=\"4\" valign=\"top\">Vibrio cholerae group O1, O139 not detected</th>\n",
       "      <th>101369</th>\n",
       "      <td>2094-06-11</td>\n",
       "    </tr>\n",
       "    <tr>\n",
       "      <th>101401</th>\n",
       "      <td>2112-08-26</td>\n",
       "    </tr>\n",
       "    <tr>\n",
       "      <th>101543</th>\n",
       "      <td>2081-07-05</td>\n",
       "    </tr>\n",
       "    <tr>\n",
       "      <th>101947</th>\n",
       "      <td>2084-09-19</td>\n",
       "    </tr>\n",
       "    <tr>\n",
       "      <th>...</th>\n",
       "      <th>...</th>\n",
       "      <td>...</td>\n",
       "    </tr>\n",
       "    <tr>\n",
       "      <th rowspan=\"2\" valign=\"top\">uncultured vibrio parahaemolyticus</th>\n",
       "      <th>108731</th>\n",
       "      <td>2116-10-19</td>\n",
       "    </tr>\n",
       "    <tr>\n",
       "      <th>109447</th>\n",
       "      <td>2084-09-21</td>\n",
       "    </tr>\n",
       "    <tr>\n",
       "      <th rowspan=\"3\" valign=\"top\">undefined bacteria</th>\n",
       "      <th>109721</th>\n",
       "      <td>2089-04-07</td>\n",
       "    </tr>\n",
       "    <tr>\n",
       "      <th>113035</th>\n",
       "      <td>2111-07-09</td>\n",
       "    </tr>\n",
       "    <tr>\n",
       "      <th>113878</th>\n",
       "      <td>2100-11-02</td>\n",
       "    </tr>\n",
       "  </tbody>\n",
       "</table>\n",
       "<p>46521 rows × 1 columns</p>\n",
       "</div>"
      ],
      "text/plain": [
       "                                                       CHARTTIME\n",
       "ORG_NAME                                     HADM_ID            \n",
       " Enterococcus hirae                          107304   2098-08-10\n",
       " Vibrio cholerae group O1, O139 not detected 101369   2094-06-11\n",
       "                                             101401   2112-08-26\n",
       "                                             101543   2081-07-05\n",
       "                                             101947   2084-09-19\n",
       "...                                                          ...\n",
       "uncultured vibrio parahaemolyticus           108731   2116-10-19\n",
       "                                             109447   2084-09-21\n",
       "undefined bacteria                           109721   2089-04-07\n",
       "                                             113035   2111-07-09\n",
       "                                             113878   2100-11-02\n",
       "\n",
       "[46521 rows x 1 columns]"
      ]
     },
     "execution_count": 11,
     "metadata": {},
     "output_type": "execute_result"
    }
   ],
   "source": [
    "grp_"
   ]
  },
  {
   "cell_type": "code",
   "execution_count": 12,
   "id": "57190b44-bf93-4d60-b381-0fd8be1f87d6",
   "metadata": {},
   "outputs": [],
   "source": [
    "result_df = grp_.unstack().T.fillna(0)"
   ]
  },
  {
   "cell_type": "code",
   "execution_count": 13,
   "id": "bf3d13cb-6196-47c7-9d3b-a544b16bcc42",
   "metadata": {},
   "outputs": [],
   "source": [
    "result_df = result_df.reset_index()"
   ]
  },
  {
   "cell_type": "code",
   "execution_count": 14,
   "id": "ada52d6a-2178-49c3-b521-2884e0a20ada",
   "metadata": {},
   "outputs": [],
   "source": [
    "result_df = result_df.drop(\"level_0\", axis=1)"
   ]
  },
  {
   "cell_type": "code",
   "execution_count": 37,
   "id": "79000cb6-911c-46d8-a126-df641a2758e2",
   "metadata": {},
   "outputs": [],
   "source": [
    "pneumonia_pathogens = result_df.filter(regex='(?i)baum|aeruginos|agalacti|aureu|HADM|entero')"
   ]
  },
  {
   "cell_type": "code",
   "execution_count": 28,
   "id": "c8d5140e-3556-47ed-b616-cac6edae43ee",
   "metadata": {},
   "outputs": [],
   "source": [
    "import ehrapy as ep\n",
    "adata = ep.io.read_h5ad(\"./adata_pneumonia_unspecified_rest_annotated.h5ad\")"
   ]
  },
  {
   "cell_type": "code",
   "execution_count": 38,
   "id": "c084ddff-9968-437d-bab6-901443de060d",
   "metadata": {},
   "outputs": [],
   "source": [
    "pneumonia_pathogens = pneumonia_pathogens[pneumonia_pathogens['HADM_ID'].isin(adata.obs[\"HADM_ID\"])]"
   ]
  },
  {
   "cell_type": "code",
   "execution_count": 39,
   "id": "6c80861e-0a8d-42b9-8b69-0cbd5e725862",
   "metadata": {},
   "outputs": [
    {
     "name": "stdout",
     "output_type": "stream",
     "text": [
      "ORG_NAME\n",
      "HADM_ID                                          239\n",
      " Enterococcus hirae                                0\n",
      "ACINETOBACTER BAUMANNII                            0\n",
      "Acinetobacter baumannii complex                   15\n",
      "Acinetobacter baumannii-calcoaceticus complex      0\n",
      "Enterobacter aerogenes                             0\n",
      "Enterobacter asburiae                              0\n",
      "Enterobacter cloacae complex                       1\n",
      "Enterobacter kobei                                 0\n",
      "Enterococcus                                       0\n",
      "Enterococcus avium Group D                         0\n",
      "Enterococcus durans (Group D)                      0\n",
      "Enterococcus faecalis group D                      1\n",
      "Enterococcus faecium group D                       6\n",
      "Enterococcus gallinarum                            0\n",
      "Enterococcus hirae (Group D)                       0\n",
      "Enterococcus raffinosus                            0\n",
      "Enterococcus: dominant growth                      8\n",
      "Pseudomonas aeruginosa                            14\n",
      "Small amount of Enterobacter                      32\n",
      "Staphylococcus aureus                              8\n",
      "Streptococcus agalactiae Group B                   0\n",
      "dtype: int64\n"
     ]
    }
   ],
   "source": [
    "non_zero_counts = pneumonia_pathogens.astype(bool).sum()\n",
    "print(non_zero_counts)"
   ]
  },
  {
   "cell_type": "code",
   "execution_count": 17,
   "id": "f303a53d-b509-4406-b6b9-a4af5ca4a6f7",
   "metadata": {},
   "outputs": [],
   "source": [
    "icu_stay_df = pd.read_csv(\"./temp_pp_data_files/icustay_chart_events.csv\")"
   ]
  },
  {
   "cell_type": "code",
   "execution_count": 18,
   "id": "95c9a71b-df5e-4002-9d35-debeafd6d843",
   "metadata": {},
   "outputs": [],
   "source": [
    "org_col_only = set(result_df.columns) - {\"HADM_ID\"}"
   ]
  },
  {
   "cell_type": "code",
   "execution_count": 19,
   "id": "f69f1793-8ab9-4808-b3ce-7645e8cb7fac",
   "metadata": {},
   "outputs": [],
   "source": [
    "for org in org_col_only:\n",
    "    hadm_id_org = {hadm_id: org for hadm_id, org in zip(result_df[\"HADM_ID\"], result_df[org])}\n",
    "    icu_stay_df[f\"{org}_positive\"] = icu_stay_df['HADM_ID'].map(hadm_id_org)"
   ]
  },
  {
   "cell_type": "code",
   "execution_count": 21,
   "id": "80844dad-f3fe-4b76-8de4-ff1bb83bf85f",
   "metadata": {},
   "outputs": [],
   "source": [
    "# non exisiting hadms in micriobiology events were not tested positive\n",
    "org_col_only = [org_col + \"_positive\" for org_col in org_col_only]\n",
    "icu_stay_df[org_col_only] = icu_stay_df.loc[:,org_col_only].fillna(value=0)"
   ]
  },
  {
   "cell_type": "markdown",
   "id": "5453d28d-0d5e-4a8c-9efa-80195cf1ef94",
   "metadata": {},
   "source": [
    "# Positive sputum cultures"
   ]
  },
  {
   "cell_type": "code",
   "execution_count": 1,
   "id": "054a686f-1a97-49fc-a8c7-fda8d73b6143",
   "metadata": {},
   "outputs": [],
   "source": [
    "import pandas as pd\n",
    "import numpy as np\n",
    "mibi_df = pd.read_csv(\"../V1.1.0/MICROBIOLOGYEVENTS.csv\")\n",
    "d_items_df = pd.read_csv(\"../V1.1.0/D_ITEMS.csv\")\n",
    "# 11681 out of 13449 HADMs have at least one mibi event (defined as at least one org id)\n",
    "# drop unused columns for now\n",
    "mibi_df.drop([\"ROW_ID\", \"ORG_NAME\", \"AB_NAME\", \"DILUTION_TEXT\", \"DILUTION_COMPARISON\", \"DILUTION_VALUE\", \"SPEC_TYPE_DESC\", \"SUBJECT_ID\"], axis=1, inplace=True)\n",
    "# some hadm (although listed) do not have any info on organisms --> delete\n",
    "mibi_df = mibi_df[mibi_df.ORG_ITEMID.notnull()]"
   ]
  },
  {
   "cell_type": "code",
   "execution_count": 2,
   "id": "1ffff6d0-33fc-42ab-9aa1-69270fc6b309",
   "metadata": {},
   "outputs": [],
   "source": [
    "# sputum culture\n",
    "mibi_df = mibi_df[mibi_df['SPEC_ITEMID'].str.contains(\"LIS0166|LIS039112\")]"
   ]
  },
  {
   "cell_type": "code",
   "execution_count": 3,
   "id": "b20d9db3-d271-47bd-8a28-50cfc803658e",
   "metadata": {},
   "outputs": [],
   "source": [
    "mibi_df.drop([\"AB_ITEMID\", \"INTERPRETATION\"], axis=1, inplace=True)"
   ]
  },
  {
   "cell_type": "code",
   "execution_count": 4,
   "id": "5af9e891-8cce-4d12-bed0-9caf15eb3077",
   "metadata": {},
   "outputs": [],
   "source": [
    "item_id_to_item_name = {item_id: item_name for item_id, item_name in zip(d_items_df[\"ITEMID\"], d_items_df[\"LABEL\"])}\n",
    "mibi_df[\"ORG_NAME\"] = mibi_df['ORG_ITEMID'].map(item_id_to_item_name)"
   ]
  },
  {
   "cell_type": "code",
   "execution_count": 5,
   "id": "f1644dc7-5b4c-4a4e-9b9d-edba7d04c75c",
   "metadata": {},
   "outputs": [],
   "source": [
    "neg_probes = ['No ','no ','Normal', 'without'] # checked before to not remove some important organisms\n",
    "\n",
    "pattern = '|'.join(neg_probes)\n",
    "\n",
    "mibi_df = mibi_df[~mibi_df['ORG_NAME'].str.contains('No |no |Normal|without')]"
   ]
  },
  {
   "cell_type": "code",
   "execution_count": 6,
   "id": "78c00a0e-2c04-4f76-9d55-6e433ca6344a",
   "metadata": {},
   "outputs": [],
   "source": [
    "mibi_df.drop([\"ORG_ITEMID\", \"SPEC_ITEMID\"], axis=1, inplace=True)"
   ]
  },
  {
   "cell_type": "code",
   "execution_count": 7,
   "id": "451f5e0a-baae-410e-9e87-138ab0ebc336",
   "metadata": {},
   "outputs": [],
   "source": [
    "pathogens = set(pd.unique(mibi_df[\"ORG_NAME\"]))\n",
    "\n",
    "fungi_pathogens = [\"Trichosporon\",\"Saccharomyces cerevisiae\", \"Lodderomyces elongisporus\",\"Pichia norvegensis\"]\n",
    "fungi_matches = [\"candida\", \"aspergillus\", \"fungus\"]\n",
    "bacterial_pathogens = []\n",
    "for pathogen in pathogens:\n",
    "    if any([fungi in pathogen.lower() for fungi in fungi_matches]):\n",
    "        fungi_pathogens.append(pathogen)\n",
    "    else:\n",
    "        bacterial_pathogens.append(pathogen)\n"
   ]
  },
  {
   "cell_type": "code",
   "execution_count": 8,
   "id": "922f3f74-d923-4e26-b217-a565346e4c5a",
   "metadata": {},
   "outputs": [],
   "source": [
    "mibi_df.drop([\"CHARTTIME\"], axis=1, inplace=True)"
   ]
  },
  {
   "cell_type": "code",
   "execution_count": 9,
   "id": "ec3ddfa0-86b1-4284-95f0-e1002836e250",
   "metadata": {},
   "outputs": [],
   "source": [
    "mibi_df = mibi_df.drop_duplicates([\"HADM_ID\", \"ORG_NAME\"])"
   ]
  },
  {
   "cell_type": "code",
   "execution_count": 10,
   "id": "fb321c6c-cdb4-4f5b-ba0b-d7f938daf4d5",
   "metadata": {},
   "outputs": [],
   "source": [
    "mibi_df[\"sputum_positive_bacteria\"] = mibi_df[\"ORG_NAME\"].isin(bacterial_pathogens)\n",
    "mibi_df[\"sputum_positive_fungi\"] = mibi_df[\"ORG_NAME\"].isin(fungi_pathogens)"
   ]
  },
  {
   "cell_type": "code",
   "execution_count": 11,
   "id": "679e51bb-dbd4-412d-86b4-94744442867d",
   "metadata": {},
   "outputs": [],
   "source": [
    "mibi_df.drop([\"ORG_NAME\"], axis=1, inplace=True)"
   ]
  },
  {
   "cell_type": "code",
   "execution_count": 12,
   "id": "8b78cfee-cf5f-4bca-b5dd-b24459f45fb3",
   "metadata": {},
   "outputs": [],
   "source": [
    "# True -> 1, False -> 0 , sum > 0 means this pathogen type has been found in sputum in this HADM ID\n",
    "pathogens_flg_df = mibi_df.groupby(\"HADM_ID\").agg({\"sputum_positive_bacteria\": \"sum\", \"sputum_positive_fungi\": \"sum\"}).reset_index()\n",
    "pathogens_flg_df[\"sputum_positive_bacteria\"] = np.where(pathogens_flg_df[\"sputum_positive_bacteria\"] > 0, 1, 0)\n",
    "pathogens_flg_df[\"sputum_positive_fungi\"] = np.where(pathogens_flg_df[\"sputum_positive_fungi\"] > 0, 1, 0)"
   ]
  },
  {
   "cell_type": "code",
   "execution_count": 21,
   "id": "f0dc12bc-8298-44b2-901c-7b6d7460114f",
   "metadata": {},
   "outputs": [],
   "source": [
    "icu_stay_df = pd.read_csv(\"./temp_pp_data_files/icu_stay_mibi.csv\")\n",
    "remove_pathogens = []\n",
    "for column in icu_stay_df.columns:\n",
    "    if \"_positive\" in column:\n",
    "        remove_pathogens.append(column)\n",
    "icu_stay_df = icu_stay_df.drop(remove_pathogens, axis=1)"
   ]
  },
  {
   "cell_type": "code",
   "execution_count": 22,
   "id": "77ad5749-bbc2-449f-b1b0-8225e3e2ed5a",
   "metadata": {},
   "outputs": [],
   "source": [
    "final_df = pd.merge(icu_stay_df, pathogens_flg_df, on='HADM_ID', how='left')\n",
    "final_df[\"sputum_positive_bacteria\"] = final_df[\"sputum_positive_bacteria\"].fillna(0)\n",
    "final_df[\"sputum_positive_fungi\"] = final_df[\"sputum_positive_fungi\"].fillna(0)"
   ]
  },
  {
   "cell_type": "code",
   "execution_count": 24,
   "id": "9b39a01d-580a-4588-be53-2581aa46397e",
   "metadata": {},
   "outputs": [],
   "source": [
    "final_df.to_csv(\"./temp_pp_data_files/icu_stay_mibi_NEW.csv\", index=False)"
   ]
  }
 ],
 "metadata": {
  "kernelspec": {
   "display_name": "Python 3",
   "language": "python",
   "name": "python3"
  },
  "language_info": {
   "codemirror_mode": {
    "name": "ipython",
    "version": 3
   },
   "file_extension": ".py",
   "mimetype": "text/x-python",
   "name": "python",
   "nbconvert_exporter": "python",
   "pygments_lexer": "ipython3",
   "version": "3.8.13"
  }
 },
 "nbformat": 4,
 "nbformat_minor": 5
}
